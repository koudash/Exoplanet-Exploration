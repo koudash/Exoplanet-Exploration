{
 "cells": [
  {
   "cell_type": "code",
   "execution_count": 1,
   "metadata": {},
   "outputs": [],
   "source": [
    "import pandas as pd\n",
    "import numpy as np\n",
    "from scipy import stats\n",
    "import matplotlib.pyplot as plt"
   ]
  },
  {
   "cell_type": "code",
   "execution_count": 2,
   "metadata": {
    "scrolled": true
   },
   "outputs": [
    {
     "data": {
      "text/html": [
       "<div>\n",
       "<style scoped>\n",
       "    .dataframe tbody tr th:only-of-type {\n",
       "        vertical-align: middle;\n",
       "    }\n",
       "\n",
       "    .dataframe tbody tr th {\n",
       "        vertical-align: top;\n",
       "    }\n",
       "\n",
       "    .dataframe thead th {\n",
       "        text-align: right;\n",
       "    }\n",
       "</style>\n",
       "<table border=\"1\" class=\"dataframe\">\n",
       "  <thead>\n",
       "    <tr style=\"text-align: right;\">\n",
       "      <th></th>\n",
       "      <th>koi_disposition</th>\n",
       "      <th>koi_fpflag_nt</th>\n",
       "      <th>koi_fpflag_ss</th>\n",
       "      <th>koi_fpflag_co</th>\n",
       "      <th>koi_fpflag_ec</th>\n",
       "      <th>koi_period</th>\n",
       "      <th>koi_period_err1</th>\n",
       "      <th>koi_period_err2</th>\n",
       "      <th>koi_time0bk</th>\n",
       "      <th>koi_time0bk_err1</th>\n",
       "      <th>...</th>\n",
       "      <th>koi_steff_err2</th>\n",
       "      <th>koi_slogg</th>\n",
       "      <th>koi_slogg_err1</th>\n",
       "      <th>koi_slogg_err2</th>\n",
       "      <th>koi_srad</th>\n",
       "      <th>koi_srad_err1</th>\n",
       "      <th>koi_srad_err2</th>\n",
       "      <th>ra</th>\n",
       "      <th>dec</th>\n",
       "      <th>koi_kepmag</th>\n",
       "    </tr>\n",
       "  </thead>\n",
       "  <tbody>\n",
       "    <tr>\n",
       "      <th>0</th>\n",
       "      <td>CONFIRMED</td>\n",
       "      <td>0</td>\n",
       "      <td>0</td>\n",
       "      <td>0</td>\n",
       "      <td>0</td>\n",
       "      <td>9.488036</td>\n",
       "      <td>2.775000e-05</td>\n",
       "      <td>-2.775000e-05</td>\n",
       "      <td>170.538750</td>\n",
       "      <td>0.002160</td>\n",
       "      <td>...</td>\n",
       "      <td>-81.0</td>\n",
       "      <td>4.467</td>\n",
       "      <td>0.064</td>\n",
       "      <td>-0.096</td>\n",
       "      <td>0.927</td>\n",
       "      <td>0.105</td>\n",
       "      <td>-0.061</td>\n",
       "      <td>291.93423</td>\n",
       "      <td>48.141651</td>\n",
       "      <td>15.347</td>\n",
       "    </tr>\n",
       "    <tr>\n",
       "      <th>1</th>\n",
       "      <td>CONFIRMED</td>\n",
       "      <td>0</td>\n",
       "      <td>0</td>\n",
       "      <td>0</td>\n",
       "      <td>0</td>\n",
       "      <td>54.418383</td>\n",
       "      <td>2.479000e-04</td>\n",
       "      <td>-2.479000e-04</td>\n",
       "      <td>162.513840</td>\n",
       "      <td>0.003520</td>\n",
       "      <td>...</td>\n",
       "      <td>-81.0</td>\n",
       "      <td>4.467</td>\n",
       "      <td>0.064</td>\n",
       "      <td>-0.096</td>\n",
       "      <td>0.927</td>\n",
       "      <td>0.105</td>\n",
       "      <td>-0.061</td>\n",
       "      <td>291.93423</td>\n",
       "      <td>48.141651</td>\n",
       "      <td>15.347</td>\n",
       "    </tr>\n",
       "    <tr>\n",
       "      <th>2</th>\n",
       "      <td>FALSE POSITIVE</td>\n",
       "      <td>0</td>\n",
       "      <td>1</td>\n",
       "      <td>0</td>\n",
       "      <td>0</td>\n",
       "      <td>19.899140</td>\n",
       "      <td>1.494000e-05</td>\n",
       "      <td>-1.494000e-05</td>\n",
       "      <td>175.850252</td>\n",
       "      <td>0.000581</td>\n",
       "      <td>...</td>\n",
       "      <td>-176.0</td>\n",
       "      <td>4.544</td>\n",
       "      <td>0.044</td>\n",
       "      <td>-0.176</td>\n",
       "      <td>0.868</td>\n",
       "      <td>0.233</td>\n",
       "      <td>-0.078</td>\n",
       "      <td>297.00482</td>\n",
       "      <td>48.134129</td>\n",
       "      <td>15.436</td>\n",
       "    </tr>\n",
       "    <tr>\n",
       "      <th>3</th>\n",
       "      <td>FALSE POSITIVE</td>\n",
       "      <td>0</td>\n",
       "      <td>1</td>\n",
       "      <td>0</td>\n",
       "      <td>0</td>\n",
       "      <td>1.736952</td>\n",
       "      <td>2.630000e-07</td>\n",
       "      <td>-2.630000e-07</td>\n",
       "      <td>170.307565</td>\n",
       "      <td>0.000115</td>\n",
       "      <td>...</td>\n",
       "      <td>-174.0</td>\n",
       "      <td>4.564</td>\n",
       "      <td>0.053</td>\n",
       "      <td>-0.168</td>\n",
       "      <td>0.791</td>\n",
       "      <td>0.201</td>\n",
       "      <td>-0.067</td>\n",
       "      <td>285.53461</td>\n",
       "      <td>48.285210</td>\n",
       "      <td>15.597</td>\n",
       "    </tr>\n",
       "    <tr>\n",
       "      <th>4</th>\n",
       "      <td>CONFIRMED</td>\n",
       "      <td>0</td>\n",
       "      <td>0</td>\n",
       "      <td>0</td>\n",
       "      <td>0</td>\n",
       "      <td>2.525592</td>\n",
       "      <td>3.761000e-06</td>\n",
       "      <td>-3.761000e-06</td>\n",
       "      <td>171.595550</td>\n",
       "      <td>0.001130</td>\n",
       "      <td>...</td>\n",
       "      <td>-211.0</td>\n",
       "      <td>4.438</td>\n",
       "      <td>0.070</td>\n",
       "      <td>-0.210</td>\n",
       "      <td>1.046</td>\n",
       "      <td>0.334</td>\n",
       "      <td>-0.133</td>\n",
       "      <td>288.75488</td>\n",
       "      <td>48.226200</td>\n",
       "      <td>15.509</td>\n",
       "    </tr>\n",
       "  </tbody>\n",
       "</table>\n",
       "<p>5 rows × 41 columns</p>\n",
       "</div>"
      ],
      "text/plain": [
       "  koi_disposition  koi_fpflag_nt  koi_fpflag_ss  koi_fpflag_co  koi_fpflag_ec  \\\n",
       "0       CONFIRMED              0              0              0              0   \n",
       "1       CONFIRMED              0              0              0              0   \n",
       "2  FALSE POSITIVE              0              1              0              0   \n",
       "3  FALSE POSITIVE              0              1              0              0   \n",
       "4       CONFIRMED              0              0              0              0   \n",
       "\n",
       "   koi_period  koi_period_err1  koi_period_err2  koi_time0bk  \\\n",
       "0    9.488036     2.775000e-05    -2.775000e-05   170.538750   \n",
       "1   54.418383     2.479000e-04    -2.479000e-04   162.513840   \n",
       "2   19.899140     1.494000e-05    -1.494000e-05   175.850252   \n",
       "3    1.736952     2.630000e-07    -2.630000e-07   170.307565   \n",
       "4    2.525592     3.761000e-06    -3.761000e-06   171.595550   \n",
       "\n",
       "   koi_time0bk_err1     ...      koi_steff_err2  koi_slogg  koi_slogg_err1  \\\n",
       "0          0.002160     ...               -81.0      4.467           0.064   \n",
       "1          0.003520     ...               -81.0      4.467           0.064   \n",
       "2          0.000581     ...              -176.0      4.544           0.044   \n",
       "3          0.000115     ...              -174.0      4.564           0.053   \n",
       "4          0.001130     ...              -211.0      4.438           0.070   \n",
       "\n",
       "   koi_slogg_err2  koi_srad  koi_srad_err1  koi_srad_err2         ra  \\\n",
       "0          -0.096     0.927          0.105         -0.061  291.93423   \n",
       "1          -0.096     0.927          0.105         -0.061  291.93423   \n",
       "2          -0.176     0.868          0.233         -0.078  297.00482   \n",
       "3          -0.168     0.791          0.201         -0.067  285.53461   \n",
       "4          -0.210     1.046          0.334         -0.133  288.75488   \n",
       "\n",
       "         dec  koi_kepmag  \n",
       "0  48.141651      15.347  \n",
       "1  48.141651      15.347  \n",
       "2  48.134129      15.436  \n",
       "3  48.285210      15.597  \n",
       "4  48.226200      15.509  \n",
       "\n",
       "[5 rows x 41 columns]"
      ]
     },
     "execution_count": 2,
     "metadata": {},
     "output_type": "execute_result"
    }
   ],
   "source": [
    "# Read CSV Data\n",
    "df = pd.read_csv(\"../data/cumulative.csv\")\n",
    "# Remove unnecessary features\n",
    "df = df.drop(columns=[\"rowid\", \"kepid\", \"kepoi_name\", \"kepler_name\", \"koi_pdisposition\", \"koi_score\", \"koi_tce_delivname\"])\n",
    "# Drop the null columns where all values are null\n",
    "df = df.dropna(axis='columns', how='all')\n",
    "# Drop the null rows\n",
    "df = df.dropna()\n",
    "# Preview \"df\"\n",
    "df.head()"
   ]
  },
  {
   "cell_type": "markdown",
   "metadata": {},
   "source": [
    "## <font color=\"navy\">Optimize Correlation Threshold to Remove Functionally Redundant Features</font>\n",
    "<i><font color=\"sky blue\"><strong>Optimization was applied in random forest (rf) model as rf does not require the distribution pattern of data<strong></font></i>"
   ]
  },
  {
   "cell_type": "code",
   "execution_count": 3,
   "metadata": {},
   "outputs": [],
   "source": [
    "# Column to be used as label\n",
    "target = df[\"koi_disposition\"]    \n",
    "\n",
    "# Transform categorical labels to numerical\n",
    "from sklearn.preprocessing import LabelEncoder\n",
    "target_encoder = LabelEncoder().fit(target.values)\n",
    "encd_target = target_encoder.transform(target.values)\n",
    "    \n",
    "# One-hot encoding labels\n",
    "from tensorflow.keras.utils import to_categorical\n",
    "encd_target_categ = to_categorical(encd_target)"
   ]
  },
  {
   "cell_type": "code",
   "execution_count": 4,
   "metadata": {
    "scrolled": true
   },
   "outputs": [
    {
     "name": "stderr",
     "output_type": "stream",
     "text": [
      "C:\\Users\\kouda\\Anaconda3\\lib\\site-packages\\sklearn\\preprocessing\\data.py:323: DataConversionWarning: Data with input dtype int64, float64 were all converted to float64 by MinMaxScaler.\n",
      "  return self.partial_fit(X, y)\n",
      "C:\\Users\\kouda\\Anaconda3\\lib\\site-packages\\sklearn\\preprocessing\\data.py:323: DataConversionWarning: Data with input dtype int64, float64 were all converted to float64 by MinMaxScaler.\n",
      "  return self.partial_fit(X, y)\n",
      "C:\\Users\\kouda\\Anaconda3\\lib\\site-packages\\sklearn\\preprocessing\\data.py:323: DataConversionWarning: Data with input dtype int64, float64 were all converted to float64 by MinMaxScaler.\n",
      "  return self.partial_fit(X, y)\n",
      "C:\\Users\\kouda\\Anaconda3\\lib\\site-packages\\sklearn\\preprocessing\\data.py:323: DataConversionWarning: Data with input dtype int64, float64 were all converted to float64 by MinMaxScaler.\n",
      "  return self.partial_fit(X, y)\n",
      "C:\\Users\\kouda\\Anaconda3\\lib\\site-packages\\sklearn\\preprocessing\\data.py:323: DataConversionWarning: Data with input dtype int64, float64 were all converted to float64 by MinMaxScaler.\n",
      "  return self.partial_fit(X, y)\n",
      "C:\\Users\\kouda\\Anaconda3\\lib\\site-packages\\sklearn\\preprocessing\\data.py:323: DataConversionWarning: Data with input dtype int64, float64 were all converted to float64 by MinMaxScaler.\n",
      "  return self.partial_fit(X, y)\n",
      "C:\\Users\\kouda\\Anaconda3\\lib\\site-packages\\sklearn\\preprocessing\\data.py:323: DataConversionWarning: Data with input dtype int64, float64 were all converted to float64 by MinMaxScaler.\n",
      "  return self.partial_fit(X, y)\n",
      "C:\\Users\\kouda\\Anaconda3\\lib\\site-packages\\sklearn\\preprocessing\\data.py:323: DataConversionWarning: Data with input dtype int64, float64 were all converted to float64 by MinMaxScaler.\n",
      "  return self.partial_fit(X, y)\n",
      "C:\\Users\\kouda\\Anaconda3\\lib\\site-packages\\sklearn\\preprocessing\\data.py:323: DataConversionWarning: Data with input dtype int64, float64 were all converted to float64 by MinMaxScaler.\n",
      "  return self.partial_fit(X, y)\n",
      "C:\\Users\\kouda\\Anaconda3\\lib\\site-packages\\sklearn\\preprocessing\\data.py:323: DataConversionWarning: Data with input dtype int64, float64 were all converted to float64 by MinMaxScaler.\n",
      "  return self.partial_fit(X, y)\n",
      "C:\\Users\\kouda\\Anaconda3\\lib\\site-packages\\sklearn\\preprocessing\\data.py:323: DataConversionWarning: Data with input dtype int64, float64 were all converted to float64 by MinMaxScaler.\n",
      "  return self.partial_fit(X, y)\n",
      "C:\\Users\\kouda\\Anaconda3\\lib\\site-packages\\sklearn\\preprocessing\\data.py:323: DataConversionWarning: Data with input dtype int64, float64 were all converted to float64 by MinMaxScaler.\n",
      "  return self.partial_fit(X, y)\n",
      "C:\\Users\\kouda\\Anaconda3\\lib\\site-packages\\sklearn\\preprocessing\\data.py:323: DataConversionWarning: Data with input dtype int64, float64 were all converted to float64 by MinMaxScaler.\n",
      "  return self.partial_fit(X, y)\n",
      "C:\\Users\\kouda\\Anaconda3\\lib\\site-packages\\sklearn\\preprocessing\\data.py:323: DataConversionWarning: Data with input dtype int64, float64 were all converted to float64 by MinMaxScaler.\n",
      "  return self.partial_fit(X, y)\n",
      "C:\\Users\\kouda\\Anaconda3\\lib\\site-packages\\sklearn\\preprocessing\\data.py:323: DataConversionWarning: Data with input dtype int64, float64 were all converted to float64 by MinMaxScaler.\n",
      "  return self.partial_fit(X, y)\n",
      "C:\\Users\\kouda\\Anaconda3\\lib\\site-packages\\sklearn\\preprocessing\\data.py:323: DataConversionWarning: Data with input dtype int64, float64 were all converted to float64 by MinMaxScaler.\n",
      "  return self.partial_fit(X, y)\n"
     ]
    }
   ],
   "source": [
    "from sklearn.model_selection import train_test_split\n",
    "from sklearn.preprocessing import MinMaxScaler\n",
    "from sklearn.ensemble import RandomForestClassifier\n",
    "from sklearn.metrics import classification_report\n",
    "\n",
    "# List to hold correlation threshold (corr_thold) to be tested in Random Forest model\n",
    "corr_thold_list = range(20, 100, 5)\n",
    "\n",
    "# Library to hold score info. for each corr_thold\n",
    "corr_thold_results = {\n",
    "    \"corr_thold\": [],\n",
    "    \"number of features\": [],\n",
    "    \"testing score\": []\n",
    "}\n",
    "\n",
    "# Iterate for each corr_thold\n",
    "for corr_thold in corr_thold_list:\n",
    "    \n",
    "    # Columns to be used as features\n",
    "    features = df.drop(\"koi_disposition\", axis=1)\n",
    "    # List for names of all columns from \"features\"\n",
    "    cols = features.columns\n",
    "    # List for names of functionally redudant columns to be deleted\n",
    "    col_del = []\n",
    "    \n",
    "    for i in range(len(cols)):\n",
    "        # If B and C are both closely correlated with A, appending cols[j] rather than cols[i] will delete both B and C \n",
    "        # with no exception even if they are not correlated to each other at all, which might compromise our model\n",
    "        # It has been tested that deleting \"cols[i]\" will yield a better score given the same correlation threshold\n",
    "        [col_del.append(cols[i]) for j in range(i) if abs(features[cols[i]].corr(features[cols[j]])) > corr_thold / 100]\n",
    "\n",
    "    # Delete functionally redundant columns\n",
    "    features = features.drop(columns=col_del)\n",
    "    \n",
    "    # Split date into train and test    \n",
    "    X_train, X_test, y_train, y_test = train_test_split(features, encd_target_categ, random_state=8)\n",
    "    \n",
    "    # Use MinMaxScaler for normalization as we are dealing with distance metrics        \n",
    "    X_scaler_mms = MinMaxScaler().fit(X_train)\n",
    "    X_train_scaled_mms = X_scaler_mms.transform(X_train)\n",
    "    X_test_scaled_mms = X_scaler_mms.transform(X_test)\n",
    "       \n",
    "    # Create random forest classifier\n",
    "    rf = RandomForestClassifier(n_estimators=200)\n",
    "    rf = rf.fit(X_train_scaled_mms, y_train)\n",
    "\n",
    "    # Append results to \"corr_thold_results\"\n",
    "    corr_thold_results[\"corr_thold\"].append(corr_thold / 100)\n",
    "    corr_thold_results[\"number of features\"].append(features.shape[1])\n",
    "    corr_thold_results[\"testing score\"].append(rf.score(X_test_scaled_mms, y_test))"
   ]
  },
  {
   "cell_type": "code",
   "execution_count": 5,
   "metadata": {},
   "outputs": [
    {
     "data": {
      "image/png": "[encoded data removed]",
      "text/plain": [
       "<Figure size 432x288 with 2 Axes>"
      ]
     },
     "metadata": {
      "needs_background": "light"
     },
     "output_type": "display_data"
    }
   ],
   "source": [
    "# Make plot for \"testing score\" and \"number of features\"\n",
    "fig, ax1 = plt.subplots()\n",
    "\n",
    "ax2 = ax1.twinx()\n",
    "ax1.plot(corr_thold_results[\"corr_thold\"], corr_thold_results[\"testing score\"], marker='o', color=\"g\")\n",
    "ax2.plot(corr_thold_results[\"corr_thold\"], corr_thold_results[\"number of features\"], marker=\"x\", color=\"b\")\n",
    "\n",
    "plt.axvline(x=0.45, linestyle='dashed', c=\"r\", alpha=0.5)\n",
    "\n",
    "ax1.set_xlabel(\"Correlation threshold\")\n",
    "ax1.set_ylabel(\"Testing score\", color=\"g\")\n",
    "ax2.set_ylabel(\"Number of features\", color=\"b\")\n",
    "\n",
    "plt.show()"
   ]
  },
  {
   "cell_type": "markdown",
   "metadata": {},
   "source": [
    "###### Based on the chart, <span style=\"background-color:red; color:white\">correlation threshold at 0.45 with as few as 15 features</span> still retains the potential for optimized prediction"
   ]
  },
  {
   "cell_type": "markdown",
   "metadata": {},
   "source": [
    "## <font color=\"navy\">Prepare Features and Labels for Machine Learning Models</font>"
   ]
  },
  {
   "cell_type": "code",
   "execution_count": 6,
   "metadata": {},
   "outputs": [
    {
     "data": {
      "text/plain": [
       "Index(['koi_fpflag_nt', 'koi_fpflag_ss', 'koi_fpflag_co', 'koi_period',\n",
       "       'koi_impact', 'koi_impact_err1', 'koi_duration', 'koi_depth',\n",
       "       'koi_depth_err1', 'koi_teq', 'koi_insol', 'koi_tce_plnt_num',\n",
       "       'koi_steff', 'ra', 'dec'],\n",
       "      dtype='object')"
      ]
     },
     "execution_count": 6,
     "metadata": {},
     "output_type": "execute_result"
    }
   ],
   "source": [
    "# Set corr_thold at 0.45\n",
    "corr_thold = 45\n",
    "\n",
    "# Features used thereafter to build machine learning models (before deleting functionally redundant columns)\n",
    "features = df.drop(\"koi_disposition\", axis=1)\n",
    "\n",
    "# List for column names to be deleted due to high correlation with others\n",
    "col_del = []\n",
    "# List for names of all columns from \"features\"\n",
    "cols = features.columns\n",
    "\n",
    "for i in range(len(cols)):\n",
    "    # Append name of features (cols[i]) to \"col_del\" if high correlated column is found\n",
    "    [col_del.append(cols[i]) for j in range(i) if abs(features[cols[i]].corr(features[cols[j]])) > corr_thold / 100]\n",
    "\n",
    "# Delete functionally redundant columns\n",
    "features = features.drop(columns=col_del)\n",
    "\n",
    "# View names of remaining columns in features\n",
    "features.columns"
   ]
  },
  {
   "cell_type": "code",
   "execution_count": 7,
   "metadata": {
    "scrolled": true
   },
   "outputs": [
    {
     "name": "stdout",
     "output_type": "stream",
     "text": [
      "**********\n",
      "feature name: koi_period\n",
      "skewness: 2.9096056442850604\n",
      "kurtosis: 8.575707227778738\n",
      "**********\n",
      "feature name: koi_impact\n",
      "skewness: 24.545626819012853\n",
      "kurtosis: 654.292256814103\n",
      "**********\n",
      "feature name: koi_impact_err1\n",
      "skewness: 6.312551243046779\n",
      "kurtosis: 40.330434371786815\n",
      "**********\n",
      "feature name: koi_duration\n",
      "skewness: 6.142732763305333\n",
      "kurtosis: 69.88306228640944\n",
      "**********\n",
      "feature name: koi_depth\n",
      "skewness: 5.339789447449275\n",
      "kurtosis: 39.95195255565689\n",
      "**********\n",
      "feature name: koi_depth_err1\n",
      "skewness: 90.88380242228578\n",
      "kurtosis: 8398.884284599475\n",
      "**********\n",
      "feature name: koi_teq\n",
      "skewness: 3.4534017756543443\n",
      "kurtosis: 27.91764996090529\n",
      "**********\n",
      "feature name: koi_insol\n",
      "skewness: 52.04085840580866\n",
      "kurtosis: 3129.058646282767\n",
      "**********\n",
      "feature name: koi_tce_plnt_num\n",
      "skewness: 3.650882561012579\n",
      "kurtosis: 16.94099602738316\n",
      "**********\n",
      "feature name: koi_steff\n",
      "skewness: 0.7542120521681619\n",
      "kurtosis: 8.074889842710324\n"
     ]
    }
   ],
   "source": [
    "# Iterate for each column in features\n",
    "for col in features.columns:\n",
    "    \n",
    "    # Check for skewness and kurtosis\n",
    "    skewness = stats.describe(features[col])[4]\n",
    "    kurtosis = stats.describe(features[col])[5]\n",
    "    \n",
    "    # Print out column info if either skewness or kurtosis is larger than 3\n",
    "    if (skewness > 3) or (kurtosis > 3):    \n",
    "        print(\"*\" * 10)\n",
    "        print(f\"feature name: {col}\")\n",
    "        print(f\"skewness: {skewness}\")\n",
    "        print(f\"kurtosis: {kurtosis}\")"
   ]
  },
  {
   "cell_type": "markdown",
   "metadata": {},
   "source": [
    "###### Based on skewness and kurtosis study, there are two thirds columns in features whose data are not normally distributed (>3). In considering data distribution, we will use random forest, SVM, KNN, and Neural Network models thereafter"
   ]
  },
  {
   "cell_type": "code",
   "execution_count": 8,
   "metadata": {},
   "outputs": [],
   "source": [
    "# Save \"features\" as csv file\n",
    "features.to_csv(\"../data/features_and_label_cleaned.csv\", index=False, header=True)"
   ]
  },
  {
   "cell_type": "code",
   "execution_count": 9,
   "metadata": {},
   "outputs": [],
   "source": [
    "# Set up train and test data for all machine learning models to be built in this project\n",
    "# Split date into train and test\n",
    "X_train, X_test, y_train, y_test = train_test_split(features, encd_target_categ, random_state=8)"
   ]
  },
  {
   "cell_type": "code",
   "execution_count": 10,
   "metadata": {},
   "outputs": [
    {
     "name": "stderr",
     "output_type": "stream",
     "text": [
      "C:\\Users\\kouda\\Anaconda3\\lib\\site-packages\\sklearn\\preprocessing\\data.py:323: DataConversionWarning: Data with input dtype int64, float64 were all converted to float64 by MinMaxScaler.\n",
      "  return self.partial_fit(X, y)\n"
     ]
    }
   ],
   "source": [
    "# Regression models will not be used due to data distribution\n",
    "# MinMaxScaler is preferred over StandardScaler for scaling features\n",
    "# In this project, StandardScaler scored exactly the same as MinMaxScaler at corr_thold=0.45\n",
    "X_scaler = MinMaxScaler().fit(X_train)\n",
    "\n",
    "X_train_scaled = X_scaler.transform(X_train)\n",
    "X_test_scaled = X_scaler.transform(X_test)"
   ]
  },
  {
   "cell_type": "markdown",
   "metadata": {},
   "source": [
    "## <font color=\"navy\">Machine Learn Models</font>"
   ]
  },
  {
   "cell_type": "code",
   "execution_count": 11,
   "metadata": {},
   "outputs": [],
   "source": [
    "from numpy.random import seed\n",
    "seed(8)"
   ]
  },
  {
   "cell_type": "code",
   "execution_count": 12,
   "metadata": {},
   "outputs": [],
   "source": [
    "# Dict to hold all info. with regard to machine learning models (RF, SVM, KNN, NN)\n",
    "model_dict = {\n",
    "    \"rf\": {},\n",
    "    \"svm\": {},\n",
    "    \"knn\": {},\n",
    "    \"nn\": {}\n",
    "}"
   ]
  },
  {
   "cell_type": "code",
   "execution_count": 13,
   "metadata": {},
   "outputs": [],
   "source": [
    "from sklearn.svm import SVC   # Support Vector Machine (SVM) model\n",
    "from sklearn.neighbors import KNeighborsClassifier   # K Nearest Neighbors (KNN) model\n",
    "\n",
    "# Classifier for RF, SVM, and KNN models\n",
    "model_dict[\"rf\"][\"classifier\"] = RandomForestClassifier(random_state=8)\n",
    "model_dict[\"svm\"][\"classifier\"] = SVC(random_state=8)\n",
    "model_dict[\"knn\"][\"classifier\"] = KNeighborsClassifier()"
   ]
  },
  {
   "cell_type": "code",
   "execution_count": 14,
   "metadata": {},
   "outputs": [],
   "source": [
    "# .......... FUNCTION TO BUILD CLASSIFIER FOR NEURAL NETWORK MODEL .......... #\n",
    "def build_classifier(optimizer, units):\n",
    "    classifier = Sequential()\n",
    "\n",
    "    # Hidden layer\n",
    "    classifier.add(Dense(units=units,\n",
    "                         activation=\"relu\",\n",
    "                         input_dim=len(features.columns)                         \n",
    "                        ))\n",
    "    # Output layer\n",
    "    classifier.add(Dense(units=3,\n",
    "                         activation=\"softmax\"\n",
    "                        ))\n",
    "    # Compile the neural work\n",
    "    classifier.compile(\n",
    "        optimizer=optimizer,\n",
    "        loss=\"categorical_crossentropy\",\n",
    "        metrics=[\"accuracy\"]\n",
    "    )\n",
    "    \n",
    "    return classifier\n",
    "# .......... FUNCTION ENDS .......... #"
   ]
  },
  {
   "cell_type": "code",
   "execution_count": 15,
   "metadata": {},
   "outputs": [
    {
     "name": "stderr",
     "output_type": "stream",
     "text": [
      "Using TensorFlow backend.\n"
     ]
    }
   ],
   "source": [
    "from tensorflow.keras.models import Sequential   # Neural Network model\n",
    "from tensorflow.keras.layers import Dense\n",
    "from keras.wrappers.scikit_learn import KerasClassifier\n",
    "\n",
    "# Wrap Keras model so it can be used by scikit-learn\n",
    "model_dict[\"nn\"][\"classifier\"] = KerasClassifier(build_fn=build_classifier, verbose=0)"
   ]
  },
  {
   "cell_type": "code",
   "execution_count": 16,
   "metadata": {},
   "outputs": [],
   "source": [
    "# Set up tuning parameters for each classifier\n",
    "model_dict[\"rf\"][\"param_grid\"] = {\n",
    "    'n_estimators': [50, 200, 500],\n",
    "    'criterion': [\"gini\", \"entropy\"],\n",
    "    'max_features': [\"sqrt\", \"log2\"]\n",
    "}\n",
    "\n",
    "model_dict[\"svm\"][\"param_grid\"] = {\n",
    "    'C': [0.1, 1, 10],\n",
    "    'kernel': [\"linear\", \"poly\", \"rbf\", \"sigmoid\"],\n",
    "    'gamma': [0.0001, 0.001, 0.01]\n",
    "}\n",
    "\n",
    "model_dict[\"knn\"][\"param_grid\"] = {\n",
    "    'n_neighbors': list(range(1, 20, 2)),\n",
    "    'weights': [\"uniform\", \"distance\"],\n",
    "    'algorithm': [\"ball_tree\", \"kd_tree\", \"brute\"]\n",
    "}\n",
    "\n",
    "'''\n",
    "SCREENING FOR NUMBER OF HIDDEN NEURONS IN NEURAL NETWORK MODEL\n",
    "\n",
    "According to the ref:\n",
    "https://stats.stackexchange.com/questions/181/how-to-choose-the-number-of-hidden-layers-and-nodes-in-a-feedforward-neural-netw\n",
    "1. Layer of hidden nodes is set to 1\n",
    "2. Number of input neurons is the length of features (15)\n",
    "3. Number of hidden neurons (hn) is supposed to be selected between 2 (output) and 15 (input), exclusive\n",
    "4. Number of output neurons is 3\n",
    "'''\n",
    "\n",
    "model_dict[\"nn\"][\"param_grid\"] = {\n",
    "    'batch_size': [5, 20],\n",
    "    'nb_epoch': [10, 50],\n",
    "    'optimizer': [\"adam\", \"rmsprop\"],\n",
    "    'units': list(range(3, len(features.columns), 3))\n",
    "}"
   ]
  },
  {
   "cell_type": "code",
   "execution_count": 17,
   "metadata": {},
   "outputs": [],
   "source": [
    "# Create GridSearch estimator for hyperparameter tuning of the model\n",
    "from sklearn.model_selection import GridSearchCV"
   ]
  },
  {
   "cell_type": "code",
   "execution_count": 18,
   "metadata": {},
   "outputs": [
    {
     "name": "stderr",
     "output_type": "stream",
     "text": [
      "C:\\Users\\kouda\\Anaconda3\\lib\\site-packages\\sklearn\\model_selection\\_split.py:2053: FutureWarning: You should specify a value for 'cv' instead of relying on the default value. The default value will change from 3 to 5 in version 0.22.\n",
      "  warnings.warn(CV_WARNING, FutureWarning)\n"
     ]
    },
    {
     "name": "stdout",
     "output_type": "stream",
     "text": [
      "Current iterated model: RF\n",
      "RF iteration DONE!!!\n",
      "Current iterated model: SVM\n"
     ]
    },
    {
     "name": "stderr",
     "output_type": "stream",
     "text": [
      "C:\\Users\\kouda\\Anaconda3\\lib\\site-packages\\sklearn\\model_selection\\_split.py:2053: FutureWarning: You should specify a value for 'cv' instead of relying on the default value. The default value will change from 3 to 5 in version 0.22.\n",
      "  warnings.warn(CV_WARNING, FutureWarning)\n"
     ]
    },
    {
     "name": "stdout",
     "output_type": "stream",
     "text": [
      "SVM iteration DONE!!!\n",
      "Current iterated model: KNN\n"
     ]
    },
    {
     "name": "stderr",
     "output_type": "stream",
     "text": [
      "C:\\Users\\kouda\\Anaconda3\\lib\\site-packages\\sklearn\\model_selection\\_split.py:2053: FutureWarning: You should specify a value for 'cv' instead of relying on the default value. The default value will change from 3 to 5 in version 0.22.\n",
      "  warnings.warn(CV_WARNING, FutureWarning)\n",
      "C:\\Users\\kouda\\Anaconda3\\lib\\site-packages\\sklearn\\model_selection\\_split.py:2053: FutureWarning: You should specify a value for 'cv' instead of relying on the default value. The default value will change from 3 to 5 in version 0.22.\n",
      "  warnings.warn(CV_WARNING, FutureWarning)\n",
      "WARNING: Logging before flag parsing goes to stderr.\n",
      "W0720 20:28:58.516965   824 deprecation.py:506] From C:\\Users\\kouda\\Anaconda3\\lib\\site-packages\\tensorflow\\python\\ops\\init_ops.py:1251: calling VarianceScaling.__init__ (from tensorflow.python.ops.init_ops) with dtype is deprecated and will be removed in a future version.\n",
      "Instructions for updating:\n",
      "Call initializer instance with the dtype argument instead of passing it to the constructor\n"
     ]
    },
    {
     "name": "stdout",
     "output_type": "stream",
     "text": [
      "KNN iteration DONE!!!\n",
      "Current iterated model: NN\n",
      "NN iteration DONE!!!\n"
     ]
    }
   ],
   "source": [
    "import pickle\n",
    "\n",
    "# DataFrame used to showcase predictions by different models\n",
    "comparison = pd.DataFrame()\n",
    "\n",
    "for model in list(model_dict.keys()):\n",
    "\n",
    "    # Print current iterated model\n",
    "    print(f\"Current iterated model: {model.upper()}\")\n",
    "    \n",
    "    # Estimator\n",
    "    model_dict[model][\"estimator\"] = GridSearchCV(\n",
    "        model_dict[model][\"classifier\"], \n",
    "        model_dict[model][\"param_grid\"],\n",
    "    )\n",
    "    \n",
    "    # SVM model can not take One-Hot-encoding label\n",
    "    if model == \"svm\":\n",
    "        y_train_im = np.argmax(y_train, axis=-1) # Tempprary y_train and y_test used for fitting the model\n",
    "        y_test_im = np.argmax(y_test, axis=-1) \n",
    "    else:\n",
    "        y_train_im = y_train \n",
    "        y_test_im = y_test    \n",
    "        \n",
    "    # Fit model using grid search estimator\n",
    "    if model == \"nn\":\n",
    "        model_dict[model][\"estimator\"].fit(X_train_scaled, y_train_im, shuffle=True)\n",
    "    else:\n",
    "        model_dict[model][\"estimator\"].fit(X_train_scaled, y_train_im)\n",
    "        \n",
    "    # Inverse labels in \"y_test\"\n",
    "    # https://stackoverflow.com/questions/54143458/convert-categorical-data-back-to-numbers-using-keras-utils-to-categorical\n",
    "    y_test_invr = target_encoder.inverse_transform(np.argmax(y_test, axis=-1))\n",
    "    \n",
    "    # Predict \"y_pred\"\n",
    "    y_pred = model_dict[model][\"estimator\"].predict(X_test_scaled)\n",
    "    \n",
    "    # Inverse labels in \"y_pred\"\n",
    "    # Note that different from Sequential predict, which always returns the same datatype of \"y_train_im\"\n",
    "    # \"predict\" for KerasClassifier(\"nn\") returns CLASS prediction for given test data (like \"predict_classes for Sequential\")\n",
    "    if (model == \"svm\") or (model == \"nn\"):\n",
    "        y_pred_invr = target_encoder.inverse_transform(y_pred)\n",
    "    else:\n",
    "        y_pred_invr = target_encoder.inverse_transform(np.argmax(y_pred, axis=-1))\n",
    "    \n",
    "    # Append inversed \"y_test\" and \"y_pred\" to \"comparison\" DataFrame\n",
    "    comparison[f\"{model}_test\"] = y_test_invr\n",
    "    comparison[f\"{model}_pred\"] = y_pred_invr\n",
    "    \n",
    "    # Scores\n",
    "    # Note that KerasClassifier also has \"score\" (mean accuracy)\n",
    "    training_score = model_dict[model][\"estimator\"].score(X_train_scaled, y_train_im)\n",
    "    testing_score = model_dict[model][\"estimator\"].score(X_test_scaled, y_test_im)\n",
    "    model_dict[model][\"test_eval\"] = {\"training_score\": training_score, \"testing_score\": testing_score}\n",
    "    \n",
    "    # Generate classification report\n",
    "    model_dict[model][\"classif_rpt\"] = classification_report(y_test_invr, y_pred_invr)\n",
    "    \n",
    "    # Save models\n",
    "    if model == \"nn\":\n",
    "        # save the classifier\n",
    "        model_dict[model][\"estimator\"].best_estimator_.model.save(f\"../models/kepler_{model}_model.h5\")     \n",
    "    else:  \n",
    "        # Save model as .pkl file (documentation)\n",
    "        with open(f\"../models/kepler_{model}_model.pkl\", 'wb') as fid:\n",
    "            pickle.dump(model_dict[model][\"estimator\"], fid)  \n",
    "\n",
    "    # Print complete information\n",
    "    print(f\"{model.upper()} iteration DONE!!!\")"
   ]
  },
  {
   "cell_type": "markdown",
   "metadata": {},
   "source": [
    "## <font color=\"navy\">Evaluation and Comparison of Machine Learn Models</font>"
   ]
  },
  {
   "cell_type": "code",
   "execution_count": null,
   "metadata": {},
   "outputs": [],
   "source": []
  },
  {
   "cell_type": "code",
   "execution_count": null,
   "metadata": {},
   "outputs": [],
   "source": []
  }
 ],
 "metadata": {
  "kernel_info": {
   "name": "dev"
  },
  "kernelspec": {
   "display_name": "Python 3",
   "language": "python",
   "name": "python3"
  },
  "language_info": {
   "codemirror_mode": {
    "name": "ipython",
    "version": 3
   },
   "file_extension": ".py",
   "mimetype": "text/x-python",
   "name": "python",
   "nbconvert_exporter": "python",
   "pygments_lexer": "ipython3",
   "version": "3.7.1"
  },
  "nteract": {
   "version": "0.12.3"
  }
 },
 "nbformat": 4,
 "nbformat_minor": 2
}
