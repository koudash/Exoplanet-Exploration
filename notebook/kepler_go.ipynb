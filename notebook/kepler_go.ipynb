{
 "cells": [
  {
   "cell_type": "code",
   "execution_count": 1,
   "metadata": {},
   "outputs": [],
   "source": [
    "import pandas as pd\n",
    "import numpy as np\n",
    "from scipy import stats\n",
    "import matplotlib.pyplot as plt"
   ]
  },
  {
   "cell_type": "code",
   "execution_count": 2,
   "metadata": {
    "scrolled": true
   },
   "outputs": [
    {
     "data": {
      "text/html": [
       "<div>\n",
       "<style scoped>\n",
       "    .dataframe tbody tr th:only-of-type {\n",
       "        vertical-align: middle;\n",
       "    }\n",
       "\n",
       "    .dataframe tbody tr th {\n",
       "        vertical-align: top;\n",
       "    }\n",
       "\n",
       "    .dataframe thead th {\n",
       "        text-align: right;\n",
       "    }\n",
       "</style>\n",
       "<table border=\"1\" class=\"dataframe\">\n",
       "  <thead>\n",
       "    <tr style=\"text-align: right;\">\n",
       "      <th></th>\n",
       "      <th>koi_disposition</th>\n",
       "      <th>koi_fpflag_nt</th>\n",
       "      <th>koi_fpflag_ss</th>\n",
       "      <th>koi_fpflag_co</th>\n",
       "      <th>koi_fpflag_ec</th>\n",
       "      <th>koi_period</th>\n",
       "      <th>koi_period_err1</th>\n",
       "      <th>koi_period_err2</th>\n",
       "      <th>koi_time0bk</th>\n",
       "      <th>koi_time0bk_err1</th>\n",
       "      <th>...</th>\n",
       "      <th>koi_steff_err2</th>\n",
       "      <th>koi_slogg</th>\n",
       "      <th>koi_slogg_err1</th>\n",
       "      <th>koi_slogg_err2</th>\n",
       "      <th>koi_srad</th>\n",
       "      <th>koi_srad_err1</th>\n",
       "      <th>koi_srad_err2</th>\n",
       "      <th>ra</th>\n",
       "      <th>dec</th>\n",
       "      <th>koi_kepmag</th>\n",
       "    </tr>\n",
       "  </thead>\n",
       "  <tbody>\n",
       "    <tr>\n",
       "      <th>0</th>\n",
       "      <td>CONFIRMED</td>\n",
       "      <td>0</td>\n",
       "      <td>0</td>\n",
       "      <td>0</td>\n",
       "      <td>0</td>\n",
       "      <td>9.488036</td>\n",
       "      <td>2.775000e-05</td>\n",
       "      <td>-2.775000e-05</td>\n",
       "      <td>170.538750</td>\n",
       "      <td>0.002160</td>\n",
       "      <td>...</td>\n",
       "      <td>-81.0</td>\n",
       "      <td>4.467</td>\n",
       "      <td>0.064</td>\n",
       "      <td>-0.096</td>\n",
       "      <td>0.927</td>\n",
       "      <td>0.105</td>\n",
       "      <td>-0.061</td>\n",
       "      <td>291.93423</td>\n",
       "      <td>48.141651</td>\n",
       "      <td>15.347</td>\n",
       "    </tr>\n",
       "    <tr>\n",
       "      <th>1</th>\n",
       "      <td>CONFIRMED</td>\n",
       "      <td>0</td>\n",
       "      <td>0</td>\n",
       "      <td>0</td>\n",
       "      <td>0</td>\n",
       "      <td>54.418383</td>\n",
       "      <td>2.479000e-04</td>\n",
       "      <td>-2.479000e-04</td>\n",
       "      <td>162.513840</td>\n",
       "      <td>0.003520</td>\n",
       "      <td>...</td>\n",
       "      <td>-81.0</td>\n",
       "      <td>4.467</td>\n",
       "      <td>0.064</td>\n",
       "      <td>-0.096</td>\n",
       "      <td>0.927</td>\n",
       "      <td>0.105</td>\n",
       "      <td>-0.061</td>\n",
       "      <td>291.93423</td>\n",
       "      <td>48.141651</td>\n",
       "      <td>15.347</td>\n",
       "    </tr>\n",
       "    <tr>\n",
       "      <th>2</th>\n",
       "      <td>FALSE POSITIVE</td>\n",
       "      <td>0</td>\n",
       "      <td>1</td>\n",
       "      <td>0</td>\n",
       "      <td>0</td>\n",
       "      <td>19.899140</td>\n",
       "      <td>1.494000e-05</td>\n",
       "      <td>-1.494000e-05</td>\n",
       "      <td>175.850252</td>\n",
       "      <td>0.000581</td>\n",
       "      <td>...</td>\n",
       "      <td>-176.0</td>\n",
       "      <td>4.544</td>\n",
       "      <td>0.044</td>\n",
       "      <td>-0.176</td>\n",
       "      <td>0.868</td>\n",
       "      <td>0.233</td>\n",
       "      <td>-0.078</td>\n",
       "      <td>297.00482</td>\n",
       "      <td>48.134129</td>\n",
       "      <td>15.436</td>\n",
       "    </tr>\n",
       "    <tr>\n",
       "      <th>3</th>\n",
       "      <td>FALSE POSITIVE</td>\n",
       "      <td>0</td>\n",
       "      <td>1</td>\n",
       "      <td>0</td>\n",
       "      <td>0</td>\n",
       "      <td>1.736952</td>\n",
       "      <td>2.630000e-07</td>\n",
       "      <td>-2.630000e-07</td>\n",
       "      <td>170.307565</td>\n",
       "      <td>0.000115</td>\n",
       "      <td>...</td>\n",
       "      <td>-174.0</td>\n",
       "      <td>4.564</td>\n",
       "      <td>0.053</td>\n",
       "      <td>-0.168</td>\n",
       "      <td>0.791</td>\n",
       "      <td>0.201</td>\n",
       "      <td>-0.067</td>\n",
       "      <td>285.53461</td>\n",
       "      <td>48.285210</td>\n",
       "      <td>15.597</td>\n",
       "    </tr>\n",
       "    <tr>\n",
       "      <th>4</th>\n",
       "      <td>CONFIRMED</td>\n",
       "      <td>0</td>\n",
       "      <td>0</td>\n",
       "      <td>0</td>\n",
       "      <td>0</td>\n",
       "      <td>2.525592</td>\n",
       "      <td>3.761000e-06</td>\n",
       "      <td>-3.761000e-06</td>\n",
       "      <td>171.595550</td>\n",
       "      <td>0.001130</td>\n",
       "      <td>...</td>\n",
       "      <td>-211.0</td>\n",
       "      <td>4.438</td>\n",
       "      <td>0.070</td>\n",
       "      <td>-0.210</td>\n",
       "      <td>1.046</td>\n",
       "      <td>0.334</td>\n",
       "      <td>-0.133</td>\n",
       "      <td>288.75488</td>\n",
       "      <td>48.226200</td>\n",
       "      <td>15.509</td>\n",
       "    </tr>\n",
       "  </tbody>\n",
       "</table>\n",
       "<p>5 rows × 41 columns</p>\n",
       "</div>"
      ],
      "text/plain": [
       "  koi_disposition  koi_fpflag_nt  koi_fpflag_ss  koi_fpflag_co  koi_fpflag_ec  \\\n",
       "0       CONFIRMED              0              0              0              0   \n",
       "1       CONFIRMED              0              0              0              0   \n",
       "2  FALSE POSITIVE              0              1              0              0   \n",
       "3  FALSE POSITIVE              0              1              0              0   \n",
       "4       CONFIRMED              0              0              0              0   \n",
       "\n",
       "   koi_period  koi_period_err1  koi_period_err2  koi_time0bk  \\\n",
       "0    9.488036     2.775000e-05    -2.775000e-05   170.538750   \n",
       "1   54.418383     2.479000e-04    -2.479000e-04   162.513840   \n",
       "2   19.899140     1.494000e-05    -1.494000e-05   175.850252   \n",
       "3    1.736952     2.630000e-07    -2.630000e-07   170.307565   \n",
       "4    2.525592     3.761000e-06    -3.761000e-06   171.595550   \n",
       "\n",
       "   koi_time0bk_err1     ...      koi_steff_err2  koi_slogg  koi_slogg_err1  \\\n",
       "0          0.002160     ...               -81.0      4.467           0.064   \n",
       "1          0.003520     ...               -81.0      4.467           0.064   \n",
       "2          0.000581     ...              -176.0      4.544           0.044   \n",
       "3          0.000115     ...              -174.0      4.564           0.053   \n",
       "4          0.001130     ...              -211.0      4.438           0.070   \n",
       "\n",
       "   koi_slogg_err2  koi_srad  koi_srad_err1  koi_srad_err2         ra  \\\n",
       "0          -0.096     0.927          0.105         -0.061  291.93423   \n",
       "1          -0.096     0.927          0.105         -0.061  291.93423   \n",
       "2          -0.176     0.868          0.233         -0.078  297.00482   \n",
       "3          -0.168     0.791          0.201         -0.067  285.53461   \n",
       "4          -0.210     1.046          0.334         -0.133  288.75488   \n",
       "\n",
       "         dec  koi_kepmag  \n",
       "0  48.141651      15.347  \n",
       "1  48.141651      15.347  \n",
       "2  48.134129      15.436  \n",
       "3  48.285210      15.597  \n",
       "4  48.226200      15.509  \n",
       "\n",
       "[5 rows x 41 columns]"
      ]
     },
     "execution_count": 2,
     "metadata": {},
     "output_type": "execute_result"
    }
   ],
   "source": [
    "# Read CSV Data\n",
    "df = pd.read_csv(\"../data/cumulative.csv\")\n",
    "# Remove unnecessary features\n",
    "df = df.drop(columns=[\"rowid\", \"kepid\", \"kepoi_name\", \"kepler_name\", \"koi_pdisposition\", \"koi_score\", \"koi_tce_delivname\"])\n",
    "# Drop the null columns where all values are null\n",
    "df = df.dropna(axis='columns', how='all')\n",
    "# Drop the null rows\n",
    "df = df.dropna()\n",
    "# Preview \"df\"\n",
    "df.head()"
   ]
  },
  {
   "cell_type": "markdown",
   "metadata": {},
   "source": [
    "## <font color=\"navy\">Optimize Correlation Threshold to Remove Functionally Redundant Features</font>\n",
    "<i><font color=\"sky blue\"><strong>Optimization was applied in random forest (rf) model as rf does not require the distribution pattern of data<strong></font></i>"
   ]
  },
  {
   "cell_type": "code",
   "execution_count": 3,
   "metadata": {},
   "outputs": [],
   "source": [
    "# Column to be used as label\n",
    "target = df[\"koi_disposition\"]    \n",
    "\n",
    "# Transform categorical labels to numerical\n",
    "from sklearn.preprocessing import LabelEncoder\n",
    "target_encoder = LabelEncoder().fit(target.values)\n",
    "encd_target = target_encoder.transform(target.values)\n",
    "    \n",
    "# One-hot encoding labels\n",
    "from tensorflow.keras.utils import to_categorical\n",
    "encd_target_categ = to_categorical(encd_target)"
   ]
  },
  {
   "cell_type": "code",
   "execution_count": 4,
   "metadata": {
    "scrolled": true
   },
   "outputs": [
    {
     "name": "stderr",
     "output_type": "stream",
     "text": [
      "C:\\Users\\kouda\\Anaconda3\\lib\\site-packages\\sklearn\\preprocessing\\data.py:323: DataConversionWarning: Data with input dtype int64, float64 were all converted to float64 by MinMaxScaler.\n",
      "  return self.partial_fit(X, y)\n",
      "C:\\Users\\kouda\\Anaconda3\\lib\\site-packages\\sklearn\\preprocessing\\data.py:323: DataConversionWarning: Data with input dtype int64, float64 were all converted to float64 by MinMaxScaler.\n",
      "  return self.partial_fit(X, y)\n",
      "C:\\Users\\kouda\\Anaconda3\\lib\\site-packages\\sklearn\\preprocessing\\data.py:323: DataConversionWarning: Data with input dtype int64, float64 were all converted to float64 by MinMaxScaler.\n",
      "  return self.partial_fit(X, y)\n",
      "C:\\Users\\kouda\\Anaconda3\\lib\\site-packages\\sklearn\\preprocessing\\data.py:323: DataConversionWarning: Data with input dtype int64, float64 were all converted to float64 by MinMaxScaler.\n",
      "  return self.partial_fit(X, y)\n",
      "C:\\Users\\kouda\\Anaconda3\\lib\\site-packages\\sklearn\\preprocessing\\data.py:323: DataConversionWarning: Data with input dtype int64, float64 were all converted to float64 by MinMaxScaler.\n",
      "  return self.partial_fit(X, y)\n",
      "C:\\Users\\kouda\\Anaconda3\\lib\\site-packages\\sklearn\\preprocessing\\data.py:323: DataConversionWarning: Data with input dtype int64, float64 were all converted to float64 by MinMaxScaler.\n",
      "  return self.partial_fit(X, y)\n",
      "C:\\Users\\kouda\\Anaconda3\\lib\\site-packages\\sklearn\\preprocessing\\data.py:323: DataConversionWarning: Data with input dtype int64, float64 were all converted to float64 by MinMaxScaler.\n",
      "  return self.partial_fit(X, y)\n",
      "C:\\Users\\kouda\\Anaconda3\\lib\\site-packages\\sklearn\\preprocessing\\data.py:323: DataConversionWarning: Data with input dtype int64, float64 were all converted to float64 by MinMaxScaler.\n",
      "  return self.partial_fit(X, y)\n",
      "C:\\Users\\kouda\\Anaconda3\\lib\\site-packages\\sklearn\\preprocessing\\data.py:323: DataConversionWarning: Data with input dtype int64, float64 were all converted to float64 by MinMaxScaler.\n",
      "  return self.partial_fit(X, y)\n",
      "C:\\Users\\kouda\\Anaconda3\\lib\\site-packages\\sklearn\\preprocessing\\data.py:323: DataConversionWarning: Data with input dtype int64, float64 were all converted to float64 by MinMaxScaler.\n",
      "  return self.partial_fit(X, y)\n",
      "C:\\Users\\kouda\\Anaconda3\\lib\\site-packages\\sklearn\\preprocessing\\data.py:323: DataConversionWarning: Data with input dtype int64, float64 were all converted to float64 by MinMaxScaler.\n",
      "  return self.partial_fit(X, y)\n",
      "C:\\Users\\kouda\\Anaconda3\\lib\\site-packages\\sklearn\\preprocessing\\data.py:323: DataConversionWarning: Data with input dtype int64, float64 were all converted to float64 by MinMaxScaler.\n",
      "  return self.partial_fit(X, y)\n",
      "C:\\Users\\kouda\\Anaconda3\\lib\\site-packages\\sklearn\\preprocessing\\data.py:323: DataConversionWarning: Data with input dtype int64, float64 were all converted to float64 by MinMaxScaler.\n",
      "  return self.partial_fit(X, y)\n",
      "C:\\Users\\kouda\\Anaconda3\\lib\\site-packages\\sklearn\\preprocessing\\data.py:323: DataConversionWarning: Data with input dtype int64, float64 were all converted to float64 by MinMaxScaler.\n",
      "  return self.partial_fit(X, y)\n",
      "C:\\Users\\kouda\\Anaconda3\\lib\\site-packages\\sklearn\\preprocessing\\data.py:323: DataConversionWarning: Data with input dtype int64, float64 were all converted to float64 by MinMaxScaler.\n",
      "  return self.partial_fit(X, y)\n",
      "C:\\Users\\kouda\\Anaconda3\\lib\\site-packages\\sklearn\\preprocessing\\data.py:323: DataConversionWarning: Data with input dtype int64, float64 were all converted to float64 by MinMaxScaler.\n",
      "  return self.partial_fit(X, y)\n"
     ]
    }
   ],
   "source": [
    "from sklearn.model_selection import train_test_split\n",
    "from sklearn.preprocessing import MinMaxScaler\n",
    "from sklearn.ensemble import RandomForestClassifier\n",
    "from sklearn.metrics import classification_report\n",
    "\n",
    "# List to hold correlation threshold (corr_thold) to be tested in Random Forest model\n",
    "corr_thold_list = range(20, 100, 5)\n",
    "\n",
    "# Library to hold score info. for each corr_thold\n",
    "corr_thold_results = {\n",
    "    \"corr_thold\": [],\n",
    "    \"number of features\": [],\n",
    "    \"testing score\": []\n",
    "}\n",
    "\n",
    "# Iterate for each corr_thold\n",
    "for corr_thold in corr_thold_list:\n",
    "    \n",
    "    # Columns to be used as features\n",
    "    features = df.drop(\"koi_disposition\", axis=1)\n",
    "    # List for names of all columns from \"features\"\n",
    "    cols = features.columns\n",
    "    # List for names of functionally redudant columns to be deleted\n",
    "    col_del = []\n",
    "    \n",
    "    for i in range(len(cols)):\n",
    "        # If B and C are both closely correlated with A, appending cols[j] rather than cols[i] will delete both B and C \n",
    "        # with no exception even if they are not correlated to each other at all, which might compromise our model\n",
    "        # It has been tested that deleting \"cols[i]\" will yield a better score given the same correlation threshold\n",
    "        [col_del.append(cols[i]) for j in range(i) if abs(features[cols[i]].corr(features[cols[j]])) > corr_thold / 100]\n",
    "\n",
    "    # Delete functionally redundant columns\n",
    "    features = features.drop(columns=col_del)\n",
    "    \n",
    "    # Split date into train and test    \n",
    "    X_train, X_test, y_train, y_test = train_test_split(features, encd_target_categ, random_state=8)\n",
    "    \n",
    "    # Use MinMaxScaler for normalization as we are dealing with distance metrics        \n",
    "    X_scaler_mms = MinMaxScaler().fit(X_train)\n",
    "    X_train_scaled_mms = X_scaler_mms.transform(X_train)\n",
    "    X_test_scaled_mms = X_scaler_mms.transform(X_test)\n",
    "       \n",
    "    # Create random forest classifier\n",
    "    rf = RandomForestClassifier(n_estimators=200)\n",
    "    rf = rf.fit(X_train_scaled_mms, y_train)\n",
    "\n",
    "    # Append results to \"corr_thold_results\"\n",
    "    corr_thold_results[\"corr_thold\"].append(corr_thold / 100)\n",
    "    corr_thold_results[\"number of features\"].append(features.shape[1])\n",
    "    corr_thold_results[\"testing score\"].append(rf.score(X_test_scaled_mms, y_test))"
   ]
  },
  {
   "cell_type": "code",
   "execution_count": 5,
   "metadata": {},
   "outputs": [
    {
     "data": {
      "image/png": "[encoded data removed]",
      "text/plain": [
       "<Figure size 432x288 with 2 Axes>"
      ]
     },
     "metadata": {
      "needs_background": "light"
     },
     "output_type": "display_data"
    }
   ],
   "source": [
    "# Make plot for \"testing score\" and \"number of features\"\n",
    "fig, ax1 = plt.subplots()\n",
    "\n",
    "ax2 = ax1.twinx()\n",
    "ax1.plot(corr_thold_results[\"corr_thold\"], corr_thold_results[\"testing score\"], marker='o', color=\"g\")\n",
    "ax2.plot(corr_thold_results[\"corr_thold\"], corr_thold_results[\"number of features\"], marker=\"x\", color=\"b\")\n",
    "\n",
    "plt.axvline(x=0.45, linestyle='dashed', c=\"r\", alpha=0.5)\n",
    "\n",
    "ax1.set_xlabel(\"Correlation threshold\")\n",
    "ax1.set_ylabel(\"Testing score\", color=\"g\")\n",
    "ax2.set_ylabel(\"Number of features\", color=\"b\")\n",
    "\n",
    "plt.show()"
   ]
  },
  {
   "cell_type": "markdown",
   "metadata": {},
   "source": [
    "###### Based on the chart, <span style=\"background-color:red; color:white\">correlation threshold at 0.45 with as few as 15 features</span> still retains the potential for optimized prediction"
   ]
  },
  {
   "cell_type": "markdown",
   "metadata": {},
   "source": [
    "## <font color=\"navy\">Prepare Features and Labels for Machine Learning Models</font>"
   ]
  },
  {
   "cell_type": "code",
   "execution_count": 6,
   "metadata": {},
   "outputs": [
    {
     "data": {
      "text/plain": [
       "Index(['koi_fpflag_nt', 'koi_fpflag_ss', 'koi_fpflag_co', 'koi_period',\n",
       "       'koi_impact', 'koi_impact_err1', 'koi_duration', 'koi_depth',\n",
       "       'koi_depth_err1', 'koi_teq', 'koi_insol', 'koi_tce_plnt_num',\n",
       "       'koi_steff', 'ra', 'dec'],\n",
       "      dtype='object')"
      ]
     },
     "execution_count": 6,
     "metadata": {},
     "output_type": "execute_result"
    }
   ],
   "source": [
    "# Set corr_thold at 0.45\n",
    "corr_thold = 45\n",
    "\n",
    "# Features used thereafter to build machine learning models (before deleting functionally redundant columns)\n",
    "features = df.drop(\"koi_disposition\", axis=1)\n",
    "\n",
    "# List for column names to be deleted due to high correlation with others\n",
    "col_del = []\n",
    "# List for names of all columns from \"features\"\n",
    "cols = features.columns\n",
    "\n",
    "for i in range(len(cols)):\n",
    "    # Append name of features (cols[i]) to \"col_del\" if high correlated column is found\n",
    "    [col_del.append(cols[i]) for j in range(i) if abs(features[cols[i]].corr(features[cols[j]])) > corr_thold / 100]\n",
    "\n",
    "# Delete functionally redundant columns\n",
    "features = features.drop(columns=col_del)\n",
    "\n",
    "# View names of remaining columns in features\n",
    "features.columns"
   ]
  },
  {
   "cell_type": "code",
   "execution_count": 7,
   "metadata": {},
   "outputs": [
    {
     "name": "stdout",
     "output_type": "stream",
     "text": [
      "**********\n",
      "feature name: koi_period\n",
      "skewness: 2.9096056442850604\n",
      "kurtosis: 8.575707227778738\n",
      "**********\n",
      "feature name: koi_impact\n",
      "skewness: 24.545626819012853\n",
      "kurtosis: 654.292256814103\n",
      "**********\n",
      "feature name: koi_impact_err1\n",
      "skewness: 6.312551243046779\n",
      "kurtosis: 40.330434371786815\n",
      "**********\n",
      "feature name: koi_duration\n",
      "skewness: 6.142732763305333\n",
      "kurtosis: 69.88306228640944\n",
      "**********\n",
      "feature name: koi_depth\n",
      "skewness: 5.339789447449275\n",
      "kurtosis: 39.95195255565689\n",
      "**********\n",
      "feature name: koi_depth_err1\n",
      "skewness: 90.88380242228578\n",
      "kurtosis: 8398.884284599475\n",
      "**********\n",
      "feature name: koi_teq\n",
      "skewness: 3.4534017756543443\n",
      "kurtosis: 27.91764996090529\n",
      "**********\n",
      "feature name: koi_insol\n",
      "skewness: 52.04085840580866\n",
      "kurtosis: 3129.058646282767\n",
      "**********\n",
      "feature name: koi_tce_plnt_num\n",
      "skewness: 3.650882561012579\n",
      "kurtosis: 16.94099602738316\n",
      "**********\n",
      "feature name: koi_steff\n",
      "skewness: 0.7542120521681619\n",
      "kurtosis: 8.074889842710324\n"
     ]
    }
   ],
   "source": [
    "# Iterate for each column in features\n",
    "for col in features.columns:\n",
    "    \n",
    "    # Check for skewness and kurtosis\n",
    "    skewness = stats.describe(features[col])[4]\n",
    "    kurtosis = stats.describe(features[col])[5]\n",
    "    \n",
    "    # Print out column info if either skewness or kurtosis is larger than 3\n",
    "    if (skewness > 3) or (kurtosis > 3):    \n",
    "        print(\"*\" * 10)\n",
    "        print(f\"feature name: {col}\")\n",
    "        print(f\"skewness: {skewness}\")\n",
    "        print(f\"kurtosis: {kurtosis}\")"
   ]
  },
  {
   "cell_type": "markdown",
   "metadata": {},
   "source": [
    "###### Based on skewness and kurtosis study, there are two thirds columns in features whose data are not normally distributed (>3). In considering data distribution, we will use random forest, SVM, KNN, and Neural Network models thereafter"
   ]
  },
  {
   "cell_type": "code",
   "execution_count": 8,
   "metadata": {},
   "outputs": [],
   "source": [
    "# Set up train and test data for all machine learning models to be built in this project\n",
    "# Split date into train and test\n",
    "X_train, X_test, y_train, y_test = train_test_split(features, encd_target, random_state=8)"
   ]
  },
  {
   "cell_type": "code",
   "execution_count": 9,
   "metadata": {},
   "outputs": [
    {
     "name": "stderr",
     "output_type": "stream",
     "text": [
      "C:\\Users\\kouda\\Anaconda3\\lib\\site-packages\\sklearn\\preprocessing\\data.py:323: DataConversionWarning: Data with input dtype int64, float64 were all converted to float64 by MinMaxScaler.\n",
      "  return self.partial_fit(X, y)\n"
     ]
    }
   ],
   "source": [
    "# Regression models will not be used due to data distribution\n",
    "# MinMaxScaler is preferred over StandardScaler for scaling features\n",
    "# In this project, StandardScaler scored exactly the same as MinMaxScaler at corr_thold=0.45\n",
    "X_scaler_mms = MinMaxScaler().fit(X_train)\n",
    "\n",
    "X_train_scaled_mms = X_scaler_mms.transform(X_train)\n",
    "X_test_scaled_mms = X_scaler_mms.transform(X_test)"
   ]
  },
  {
   "cell_type": "markdown",
   "metadata": {},
   "source": [
    "## <font color=\"navy\">Random Forest Model</font>"
   ]
  },
  {
   "cell_type": "code",
   "execution_count": 10,
   "metadata": {},
   "outputs": [
    {
     "name": "stderr",
     "output_type": "stream",
     "text": [
      "C:\\Users\\kouda\\Anaconda3\\lib\\site-packages\\sklearn\\ensemble\\forest.py:246: FutureWarning: The default value of n_estimators will change from 10 in version 0.20 to 100 in 0.22.\n",
      "  \"10 in version 0.20 to 100 in 0.22.\", FutureWarning)\n"
     ]
    }
   ],
   "source": [
    "# Create random forest classifier\n",
    "rf = RandomForestClassifier()\n",
    "\n",
    "# Fit model with train data\n",
    "rf = rf.fit(X_train_scaled_mms, y_train)"
   ]
  },
  {
   "cell_type": "code",
   "execution_count": 11,
   "metadata": {},
   "outputs": [
    {
     "name": "stdout",
     "output_type": "stream",
     "text": [
      "Training Data Score: 0.9926806953339433\n",
      "Testing Data Score: 0.8700823421774931\n"
     ]
    }
   ],
   "source": [
    "# Scores for train and test data\n",
    "print(f\"Training Data Score: {rf.score(X_train_scaled_mms, y_train)}\")\n",
    "print(f\"Testing Data Score: {rf.score(X_test_scaled_mms, y_test)}\")"
   ]
  },
  {
   "cell_type": "code",
   "execution_count": 13,
   "metadata": {},
   "outputs": [],
   "source": [
    "# Create GridSearch estimator along with \"n_estimators\" and \"max_features\" parameters for hyperparameter tuning of the model\n",
    "from sklearn.model_selection import GridSearchCV\n",
    "# Set up tuning parameters\n",
    "param_grid_rf = {'n_estimators': [50, 200, 500, 800],\n",
    "                 'criterion': [\"gini\", \"entropy\"],\n",
    "                 'max_features': [\"sqrt\", \"log2\"]\n",
    "                 }\n",
    "              \n",
    "grid_rf = GridSearchCV(rf, param_grid_rf, verbose=3)"
   ]
  },
  {
   "cell_type": "code",
   "execution_count": 14,
   "metadata": {},
   "outputs": [
    {
     "name": "stderr",
     "output_type": "stream",
     "text": [
      "C:\\Users\\kouda\\Anaconda3\\lib\\site-packages\\sklearn\\model_selection\\_split.py:2053: FutureWarning: You should specify a value for 'cv' instead of relying on the default value. The default value will change from 3 to 5 in version 0.22.\n",
      "  warnings.warn(CV_WARNING, FutureWarning)\n",
      "[Parallel(n_jobs=1)]: Using backend SequentialBackend with 1 concurrent workers.\n"
     ]
    },
    {
     "name": "stdout",
     "output_type": "stream",
     "text": [
      "Fitting 3 folds for each of 16 candidates, totalling 48 fits\n",
      "[CV] criterion=gini, max_features=sqrt, n_estimators=50 ..............\n",
      "[CV]  criterion=gini, max_features=sqrt, n_estimators=50, score=0.8770004572473709, total=   0.7s\n",
      "[CV] criterion=gini, max_features=sqrt, n_estimators=50 ..............\n"
     ]
    },
    {
     "name": "stderr",
     "output_type": "stream",
     "text": [
      "[Parallel(n_jobs=1)]: Done   1 out of   1 | elapsed:    0.8s remaining:    0.0s\n"
     ]
    },
    {
     "name": "stdout",
     "output_type": "stream",
     "text": [
      "[CV]  criterion=gini, max_features=sqrt, n_estimators=50, score=0.8756287151348879, total=   0.7s\n",
      "[CV] criterion=gini, max_features=sqrt, n_estimators=50 ..............\n"
     ]
    },
    {
     "name": "stderr",
     "output_type": "stream",
     "text": [
      "[Parallel(n_jobs=1)]: Done   2 out of   2 | elapsed:    1.6s remaining:    0.0s\n"
     ]
    },
    {
     "name": "stdout",
     "output_type": "stream",
     "text": [
      "[CV]  criterion=gini, max_features=sqrt, n_estimators=50, score=0.8681318681318682, total=   0.7s\n",
      "[CV] criterion=gini, max_features=sqrt, n_estimators=200 .............\n",
      "[CV]  criterion=gini, max_features=sqrt, n_estimators=200, score=0.8806584362139918, total=   3.1s\n",
      "[CV] criterion=gini, max_features=sqrt, n_estimators=200 .............\n",
      "[CV]  criterion=gini, max_features=sqrt, n_estimators=200, score=0.8774577046181985, total=   3.1s\n",
      "[CV] criterion=gini, max_features=sqrt, n_estimators=200 .............\n",
      "[CV]  criterion=gini, max_features=sqrt, n_estimators=200, score=0.8653846153846154, total=   3.1s\n",
      "[CV] criterion=gini, max_features=sqrt, n_estimators=500 .............\n",
      "[CV]  criterion=gini, max_features=sqrt, n_estimators=500, score=0.879286694101509, total=   7.9s\n",
      "[CV] criterion=gini, max_features=sqrt, n_estimators=500 .............\n",
      "[CV]  criterion=gini, max_features=sqrt, n_estimators=500, score=0.8820301783264746, total=   7.9s\n",
      "[CV] criterion=gini, max_features=sqrt, n_estimators=500 .............\n",
      "[CV]  criterion=gini, max_features=sqrt, n_estimators=500, score=0.8704212454212454, total=   7.9s\n",
      "[CV] criterion=gini, max_features=sqrt, n_estimators=800 .............\n",
      "[CV]  criterion=gini, max_features=sqrt, n_estimators=800, score=0.879286694101509, total=  12.8s\n",
      "[CV] criterion=gini, max_features=sqrt, n_estimators=800 .............\n",
      "[CV]  criterion=gini, max_features=sqrt, n_estimators=800, score=0.879286694101509, total=  12.8s\n",
      "[CV] criterion=gini, max_features=sqrt, n_estimators=800 .............\n",
      "[CV]  criterion=gini, max_features=sqrt, n_estimators=800, score=0.8708791208791209, total=  12.7s\n",
      "[CV] criterion=gini, max_features=log2, n_estimators=50 ..............\n",
      "[CV]  criterion=gini, max_features=log2, n_estimators=50, score=0.869684499314129, total=   0.7s\n",
      "[CV] criterion=gini, max_features=log2, n_estimators=50 ..............\n",
      "[CV]  criterion=gini, max_features=log2, n_estimators=50, score=0.8760859625057156, total=   0.7s\n",
      "[CV] criterion=gini, max_features=log2, n_estimators=50 ..............\n",
      "[CV]  criterion=gini, max_features=log2, n_estimators=50, score=0.8717948717948718, total=   0.7s\n",
      "[CV] criterion=gini, max_features=log2, n_estimators=200 .............\n",
      "[CV]  criterion=gini, max_features=log2, n_estimators=200, score=0.8788294467306813, total=   2.9s\n",
      "[CV] criterion=gini, max_features=log2, n_estimators=200 .............\n",
      "[CV]  criterion=gini, max_features=log2, n_estimators=200, score=0.879286694101509, total=   3.0s\n",
      "[CV] criterion=gini, max_features=log2, n_estimators=200 .............\n",
      "[CV]  criterion=gini, max_features=log2, n_estimators=200, score=0.8713369963369964, total=   3.1s\n",
      "[CV] criterion=gini, max_features=log2, n_estimators=500 .............\n",
      "[CV]  criterion=gini, max_features=log2, n_estimators=500, score=0.879286694101509, total=   7.9s\n",
      "[CV] criterion=gini, max_features=log2, n_estimators=500 .............\n",
      "[CV]  criterion=gini, max_features=log2, n_estimators=500, score=0.8788294467306813, total=   7.8s\n",
      "[CV] criterion=gini, max_features=log2, n_estimators=500 .............\n",
      "[CV]  criterion=gini, max_features=log2, n_estimators=500, score=0.8713369963369964, total=   7.8s\n",
      "[CV] criterion=gini, max_features=log2, n_estimators=800 .............\n",
      "[CV]  criterion=gini, max_features=log2, n_estimators=800, score=0.8765432098765432, total=  12.7s\n",
      "[CV] criterion=gini, max_features=log2, n_estimators=800 .............\n",
      "[CV]  criterion=gini, max_features=log2, n_estimators=800, score=0.8788294467306813, total=  12.7s\n",
      "[CV] criterion=gini, max_features=log2, n_estimators=800 .............\n",
      "[CV]  criterion=gini, max_features=log2, n_estimators=800, score=0.8745421245421245, total=  12.6s\n",
      "[CV] criterion=entropy, max_features=sqrt, n_estimators=50 ...........\n",
      "[CV]  criterion=entropy, max_features=sqrt, n_estimators=50, score=0.8760859625057156, total=   1.2s\n",
      "[CV] criterion=entropy, max_features=sqrt, n_estimators=50 ...........\n",
      "[CV]  criterion=entropy, max_features=sqrt, n_estimators=50, score=0.871970736168267, total=   1.2s\n",
      "[CV] criterion=entropy, max_features=sqrt, n_estimators=50 ...........\n",
      "[CV]  criterion=entropy, max_features=sqrt, n_estimators=50, score=0.8617216117216118, total=   1.1s\n",
      "[CV] criterion=entropy, max_features=sqrt, n_estimators=200 ..........\n",
      "[CV]  criterion=entropy, max_features=sqrt, n_estimators=200, score=0.877914951989026, total=   5.0s\n",
      "[CV] criterion=entropy, max_features=sqrt, n_estimators=200 ..........\n",
      "[CV]  criterion=entropy, max_features=sqrt, n_estimators=200, score=0.8770004572473709, total=   5.0s\n",
      "[CV] criterion=entropy, max_features=sqrt, n_estimators=200 ..........\n",
      "[CV]  criterion=entropy, max_features=sqrt, n_estimators=200, score=0.8708791208791209, total=   4.9s\n",
      "[CV] criterion=entropy, max_features=sqrt, n_estimators=500 ..........\n",
      "[CV]  criterion=entropy, max_features=sqrt, n_estimators=500, score=0.881572930955647, total=  12.6s\n",
      "[CV] criterion=entropy, max_features=sqrt, n_estimators=500 ..........\n",
      "[CV]  criterion=entropy, max_features=sqrt, n_estimators=500, score=0.879286694101509, total=  12.5s\n",
      "[CV] criterion=entropy, max_features=sqrt, n_estimators=500 ..........\n",
      "[CV]  criterion=entropy, max_features=sqrt, n_estimators=500, score=0.8704212454212454, total=  12.4s\n",
      "[CV] criterion=entropy, max_features=sqrt, n_estimators=800 ..........\n",
      "[CV]  criterion=entropy, max_features=sqrt, n_estimators=800, score=0.8802011888431641, total=  20.2s\n",
      "[CV] criterion=entropy, max_features=sqrt, n_estimators=800 ..........\n",
      "[CV]  criterion=entropy, max_features=sqrt, n_estimators=800, score=0.8774577046181985, total=  20.3s\n",
      "[CV] criterion=entropy, max_features=sqrt, n_estimators=800 ..........\n",
      "[CV]  criterion=entropy, max_features=sqrt, n_estimators=800, score=0.8690476190476191, total=  20.1s\n",
      "[CV] criterion=entropy, max_features=log2, n_estimators=50 ...........\n",
      "[CV]  criterion=entropy, max_features=log2, n_estimators=50, score=0.8770004572473709, total=   1.2s\n",
      "[CV] criterion=entropy, max_features=log2, n_estimators=50 ...........\n",
      "[CV]  criterion=entropy, max_features=log2, n_estimators=50, score=0.8760859625057156, total=   1.2s\n",
      "[CV] criterion=entropy, max_features=log2, n_estimators=50 ...........\n",
      "[CV]  criterion=entropy, max_features=log2, n_estimators=50, score=0.8608058608058609, total=   1.2s\n",
      "[CV] criterion=entropy, max_features=log2, n_estimators=200 ..........\n",
      "[CV]  criterion=entropy, max_features=log2, n_estimators=200, score=0.8783721993598537, total=   4.9s\n",
      "[CV] criterion=entropy, max_features=log2, n_estimators=200 ..........\n",
      "[CV]  criterion=entropy, max_features=log2, n_estimators=200, score=0.8802011888431641, total=   4.9s\n",
      "[CV] criterion=entropy, max_features=log2, n_estimators=200 ..........\n",
      "[CV]  criterion=entropy, max_features=log2, n_estimators=200, score=0.8658424908424909, total=   5.0s\n",
      "[CV] criterion=entropy, max_features=log2, n_estimators=500 ..........\n",
      "[CV]  criterion=entropy, max_features=log2, n_estimators=500, score=0.8802011888431641, total=  12.6s\n",
      "[CV] criterion=entropy, max_features=log2, n_estimators=500 ..........\n",
      "[CV]  criterion=entropy, max_features=log2, n_estimators=500, score=0.8774577046181985, total=  12.6s\n",
      "[CV] criterion=entropy, max_features=log2, n_estimators=500 ..........\n",
      "[CV]  criterion=entropy, max_features=log2, n_estimators=500, score=0.8695054945054945, total=  12.6s\n",
      "[CV] criterion=entropy, max_features=log2, n_estimators=800 ..........\n",
      "[CV]  criterion=entropy, max_features=log2, n_estimators=800, score=0.8820301783264746, total=  20.3s\n",
      "[CV] criterion=entropy, max_features=log2, n_estimators=800 ..........\n",
      "[CV]  criterion=entropy, max_features=log2, n_estimators=800, score=0.881572930955647, total=  20.4s\n",
      "[CV] criterion=entropy, max_features=log2, n_estimators=800 ..........\n",
      "[CV]  criterion=entropy, max_features=log2, n_estimators=800, score=0.8676739926739927, total=  19.8s\n"
     ]
    },
    {
     "name": "stderr",
     "output_type": "stream",
     "text": [
      "[Parallel(n_jobs=1)]: Done  48 out of  48 | elapsed:  6.8min finished\n"
     ]
    },
    {
     "data": {
      "text/plain": [
       "GridSearchCV(cv='warn', error_score='raise-deprecating',\n",
       "       estimator=RandomForestClassifier(bootstrap=True, class_weight=None, criterion='gini',\n",
       "            max_depth=None, max_features='auto', max_leaf_nodes=None,\n",
       "            min_impurity_decrease=0.0, min_impurity_split=None,\n",
       "            min_samples_leaf=1, min_samples_split=2,\n",
       "            min_weight_fraction_leaf=0.0, n_estimators=10, n_jobs=None,\n",
       "            oob_score=False, random_state=None, verbose=0,\n",
       "            warm_start=False),\n",
       "       fit_params=None, iid='warn', n_jobs=None,\n",
       "       param_grid={'n_estimators': [50, 200, 500, 800], 'criterion': ['gini', 'entropy'], 'max_features': ['sqrt', 'log2']},\n",
       "       pre_dispatch='2*n_jobs', refit=True, return_train_score='warn',\n",
       "       scoring=None, verbose=3)"
      ]
     },
     "execution_count": 14,
     "metadata": {},
     "output_type": "execute_result"
    }
   ],
   "source": [
    "# Fit rf model using grid search estimator\n",
    "grid_rf.fit(X_train_scaled_mms, y_train)"
   ]
  },
  {
   "cell_type": "code",
   "execution_count": 15,
   "metadata": {},
   "outputs": [
    {
     "name": "stdout",
     "output_type": "stream",
     "text": [
      "{'criterion': 'gini', 'max_features': 'sqrt', 'n_estimators': 500}\n"
     ]
    }
   ],
   "source": [
    " # List the best parameters for this dataset\n",
    "print(grid_rf.best_params_)"
   ]
  },
  {
   "cell_type": "code",
   "execution_count": 16,
   "metadata": {},
   "outputs": [
    {
     "name": "stdout",
     "output_type": "stream",
     "text": [
      "Training Data Score: 1.0\n",
      "Testing Data Score: 0.8911253430924062\n"
     ]
    }
   ],
   "source": [
    "# Scores for train and test data after hyperparameter tuning of the model\n",
    "print(f\"Training Data Score: {grid_rf.score(X_train_scaled_mms, y_train)}\")\n",
    "print(f\"Testing Data Score: {grid_rf.score(X_test_scaled_mms, y_test)}\")"
   ]
  },
  {
   "cell_type": "code",
   "execution_count": 17,
   "metadata": {},
   "outputs": [
    {
     "name": "stdout",
     "output_type": "stream",
     "text": [
      "              precision    recall  f1-score   support\n",
      "\n",
      "           0       0.79      0.78      0.78       510\n",
      "           1       0.83      0.82      0.83       587\n",
      "           2       0.97      0.98      0.98      1089\n",
      "\n",
      "   micro avg       0.89      0.89      0.89      2186\n",
      "   macro avg       0.86      0.86      0.86      2186\n",
      "weighted avg       0.89      0.89      0.89      2186\n",
      "\n"
     ]
    }
   ],
   "source": [
    "# Calculate classification report\n",
    "print(classification_report(\n",
    "    y_test, grid_rf.predict(X_test_scaled_mms), target_names=[\"0\", \"1\", \"2\"]\n",
    "))"
   ]
  },
  {
   "cell_type": "code",
   "execution_count": 45,
   "metadata": {},
   "outputs": [
    {
     "data": {
      "text/html": [
       "<div>\n",
       "<style scoped>\n",
       "    .dataframe tbody tr th:only-of-type {\n",
       "        vertical-align: middle;\n",
       "    }\n",
       "\n",
       "    .dataframe tbody tr th {\n",
       "        vertical-align: top;\n",
       "    }\n",
       "\n",
       "    .dataframe thead th {\n",
       "        text-align: right;\n",
       "    }\n",
       "</style>\n",
       "<table border=\"1\" class=\"dataframe\">\n",
       "  <thead>\n",
       "    <tr style=\"text-align: right;\">\n",
       "      <th></th>\n",
       "      <th>target_test</th>\n",
       "      <th>target_predicted</th>\n",
       "    </tr>\n",
       "  </thead>\n",
       "  <tbody>\n",
       "    <tr>\n",
       "      <th>0</th>\n",
       "      <td>FALSE POSITIVE</td>\n",
       "      <td>FALSE POSITIVE</td>\n",
       "    </tr>\n",
       "    <tr>\n",
       "      <th>1</th>\n",
       "      <td>FALSE POSITIVE</td>\n",
       "      <td>FALSE POSITIVE</td>\n",
       "    </tr>\n",
       "    <tr>\n",
       "      <th>2</th>\n",
       "      <td>CONFIRMED</td>\n",
       "      <td>CONFIRMED</td>\n",
       "    </tr>\n",
       "    <tr>\n",
       "      <th>3</th>\n",
       "      <td>CANDIDATE</td>\n",
       "      <td>CANDIDATE</td>\n",
       "    </tr>\n",
       "    <tr>\n",
       "      <th>4</th>\n",
       "      <td>FALSE POSITIVE</td>\n",
       "      <td>FALSE POSITIVE</td>\n",
       "    </tr>\n",
       "    <tr>\n",
       "      <th>5</th>\n",
       "      <td>CONFIRMED</td>\n",
       "      <td>CONFIRMED</td>\n",
       "    </tr>\n",
       "    <tr>\n",
       "      <th>6</th>\n",
       "      <td>CANDIDATE</td>\n",
       "      <td>CANDIDATE</td>\n",
       "    </tr>\n",
       "    <tr>\n",
       "      <th>7</th>\n",
       "      <td>FALSE POSITIVE</td>\n",
       "      <td>FALSE POSITIVE</td>\n",
       "    </tr>\n",
       "    <tr>\n",
       "      <th>8</th>\n",
       "      <td>FALSE POSITIVE</td>\n",
       "      <td>FALSE POSITIVE</td>\n",
       "    </tr>\n",
       "    <tr>\n",
       "      <th>9</th>\n",
       "      <td>FALSE POSITIVE</td>\n",
       "      <td>CANDIDATE</td>\n",
       "    </tr>\n",
       "    <tr>\n",
       "      <th>10</th>\n",
       "      <td>CONFIRMED</td>\n",
       "      <td>CONFIRMED</td>\n",
       "    </tr>\n",
       "    <tr>\n",
       "      <th>11</th>\n",
       "      <td>CANDIDATE</td>\n",
       "      <td>CANDIDATE</td>\n",
       "    </tr>\n",
       "    <tr>\n",
       "      <th>12</th>\n",
       "      <td>FALSE POSITIVE</td>\n",
       "      <td>FALSE POSITIVE</td>\n",
       "    </tr>\n",
       "    <tr>\n",
       "      <th>13</th>\n",
       "      <td>CONFIRMED</td>\n",
       "      <td>CONFIRMED</td>\n",
       "    </tr>\n",
       "    <tr>\n",
       "      <th>14</th>\n",
       "      <td>CANDIDATE</td>\n",
       "      <td>CANDIDATE</td>\n",
       "    </tr>\n",
       "    <tr>\n",
       "      <th>15</th>\n",
       "      <td>CANDIDATE</td>\n",
       "      <td>CONFIRMED</td>\n",
       "    </tr>\n",
       "  </tbody>\n",
       "</table>\n",
       "</div>"
      ],
      "text/plain": [
       "       target_test target_predicted\n",
       "0   FALSE POSITIVE   FALSE POSITIVE\n",
       "1   FALSE POSITIVE   FALSE POSITIVE\n",
       "2        CONFIRMED        CONFIRMED\n",
       "3        CANDIDATE        CANDIDATE\n",
       "4   FALSE POSITIVE   FALSE POSITIVE\n",
       "5        CONFIRMED        CONFIRMED\n",
       "6        CANDIDATE        CANDIDATE\n",
       "7   FALSE POSITIVE   FALSE POSITIVE\n",
       "8   FALSE POSITIVE   FALSE POSITIVE\n",
       "9   FALSE POSITIVE        CANDIDATE\n",
       "10       CONFIRMED        CONFIRMED\n",
       "11       CANDIDATE        CANDIDATE\n",
       "12  FALSE POSITIVE   FALSE POSITIVE\n",
       "13       CONFIRMED        CONFIRMED\n",
       "14       CANDIDATE        CANDIDATE\n",
       "15       CANDIDATE        CONFIRMED"
      ]
     },
     "execution_count": 45,
     "metadata": {},
     "output_type": "execute_result"
    }
   ],
   "source": [
    "# DataFrame for test and predicted data\n",
    "target_pred_test_rf = pd.DataFrame({\n",
    "    \"target_test\": target_encoder.inverse_transform(y_test),\n",
    "    \"target_predicted\": target_encoder.inverse_transform(grid_rf.predict(X_test_scaled_mms))\n",
    "})\n",
    "\n",
    "# Preview \"target_pred_test_rf\"\n",
    "target_pred_test_rf.head(16)"
   ]
  },
  {
   "cell_type": "code",
   "execution_count": 59,
   "metadata": {},
   "outputs": [
    {
     "data": {
      "text/plain": [
       "['../data/models/kepler_rf_model.h5']"
      ]
     },
     "execution_count": 59,
     "metadata": {},
     "output_type": "execute_result"
    }
   ],
   "source": [
    "# Save model as .h5 file\n",
    "from sklearn.externals import joblib\n",
    "joblib.dump(grid_rf.best_estimator_, '../models/kepler_rf_model.h5')"
   ]
  },
  {
   "cell_type": "markdown",
   "metadata": {},
   "source": [
    "## <font color=\"navy\">SVM Model</font>"
   ]
  },
  {
   "cell_type": "code",
   "execution_count": 111,
   "metadata": {},
   "outputs": [
    {
     "name": "stderr",
     "output_type": "stream",
     "text": [
      "C:\\Users\\kouda\\Anaconda3\\lib\\site-packages\\sklearn\\svm\\base.py:196: FutureWarning: The default value of gamma will change from 'auto' to 'scale' in version 0.22 to account better for unscaled features. Set gamma explicitly to 'auto' or 'scale' to avoid this warning.\n",
      "  \"avoid this warning.\", FutureWarning)\n"
     ]
    },
    {
     "data": {
      "text/plain": [
       "SVC(C=1.0, cache_size=200, class_weight=None, coef0=0.0,\n",
       "  decision_function_shape='ovr', degree=3, gamma='auto_deprecated',\n",
       "  kernel='rbf', max_iter=-1, probability=False, random_state=None,\n",
       "  shrinking=True, tol=0.001, verbose=False)"
      ]
     },
     "execution_count": 111,
     "metadata": {},
     "output_type": "execute_result"
    }
   ],
   "source": [
    "# Support vector machine linear classifier\n",
    "from sklearn.svm import SVC\n",
    "# Create SVM classifier\n",
    "svm = SVC()\n",
    "# Fit model with train data\n",
    "svm.fit(X_train_scaled_mms, y_train)"
   ]
  },
  {
   "cell_type": "code",
   "execution_count": 61,
   "metadata": {},
   "outputs": [
    {
     "name": "stdout",
     "output_type": "stream",
     "text": [
      "Training Data Score: 0.786062824031717\n",
      "Testing Data Score: 0.7964318389752973\n"
     ]
    }
   ],
   "source": [
    "# Scores for train and test data\n",
    "print(f\"Training Data Score: {svm.score(X_train_scaled_mms, y_train)}\")\n",
    "print(f\"Testing Data Score: {svm.score(X_test_scaled_mms, y_test)}\")"
   ]
  },
  {
   "cell_type": "code",
   "execution_count": 73,
   "metadata": {},
   "outputs": [],
   "source": [
    "# Set up tuning parameters\n",
    "param_grid_svm = {'C': [0.1, 1, 5, 10, 50],\n",
    "                  'kernel': [\"linear\", \"poly\", \"rbf\", \"sigmoid\"],\n",
    "                  'gamma': [0.0001, 0.0005, 0.001, 0.005],\n",
    "                 }\n",
    "              \n",
    "grid_svm = GridSearchCV(svm, param_grid_svm, verbose=3)"
   ]
  },
  {
   "cell_type": "code",
   "execution_count": 74,
   "metadata": {},
   "outputs": [
    {
     "name": "stderr",
     "output_type": "stream",
     "text": [
      "C:\\Users\\kouda\\Anaconda3\\lib\\site-packages\\sklearn\\model_selection\\_split.py:2053: FutureWarning: You should specify a value for 'cv' instead of relying on the default value. The default value will change from 3 to 5 in version 0.22.\n",
      "  warnings.warn(CV_WARNING, FutureWarning)\n",
      "[Parallel(n_jobs=1)]: Using backend SequentialBackend with 1 concurrent workers.\n"
     ]
    },
    {
     "name": "stdout",
     "output_type": "stream",
     "text": [
      "Fitting 3 folds for each of 80 candidates, totalling 240 fits\n",
      "[CV] C=0.1, gamma=0.0001, kernel=linear ..............................\n",
      "[CV]  C=0.1, gamma=0.0001, kernel=linear, score=0.7832647462277091, total=   0.1s\n",
      "[CV] C=0.1, gamma=0.0001, kernel=linear ..............................\n"
     ]
    },
    {
     "name": "stderr",
     "output_type": "stream",
     "text": [
      "[Parallel(n_jobs=1)]: Done   1 out of   1 | elapsed:    0.3s remaining:    0.0s\n"
     ]
    },
    {
     "name": "stdout",
     "output_type": "stream",
     "text": [
      "[CV]  C=0.1, gamma=0.0001, kernel=linear, score=0.7722908093278463, total=   0.1s\n",
      "[CV] C=0.1, gamma=0.0001, kernel=linear ..............................\n"
     ]
    },
    {
     "name": "stderr",
     "output_type": "stream",
     "text": [
      "[Parallel(n_jobs=1)]: Done   2 out of   2 | elapsed:    0.7s remaining:    0.0s\n"
     ]
    },
    {
     "name": "stdout",
     "output_type": "stream",
     "text": [
      "[CV]  C=0.1, gamma=0.0001, kernel=linear, score=0.7756410256410257, total=   0.1s\n",
      "[CV] C=0.1, gamma=0.0001, kernel=poly ................................\n",
      "[CV]  C=0.1, gamma=0.0001, kernel=poly, score=0.4983996342021033, total=   0.6s\n",
      "[CV] C=0.1, gamma=0.0001, kernel=poly ................................\n",
      "[CV]  C=0.1, gamma=0.0001, kernel=poly, score=0.4983996342021033, total=   0.5s\n",
      "[CV] C=0.1, gamma=0.0001, kernel=poly ................................\n",
      "[CV]  C=0.1, gamma=0.0001, kernel=poly, score=0.49862637362637363, total=   0.5s\n",
      "[CV] C=0.1, gamma=0.0001, kernel=rbf .................................\n",
      "[CV]  C=0.1, gamma=0.0001, kernel=rbf, score=0.4983996342021033, total=   0.8s\n",
      "[CV] C=0.1, gamma=0.0001, kernel=rbf .................................\n",
      "[CV]  C=0.1, gamma=0.0001, kernel=rbf, score=0.4983996342021033, total=   0.9s\n",
      "[CV] C=0.1, gamma=0.0001, kernel=rbf .................................\n",
      "[CV]  C=0.1, gamma=0.0001, kernel=rbf, score=0.49862637362637363, total=   0.8s\n",
      "[CV] C=0.1, gamma=0.0001, kernel=sigmoid .............................\n",
      "[CV]  C=0.1, gamma=0.0001, kernel=sigmoid, score=0.4983996342021033, total=   0.7s\n",
      "[CV] C=0.1, gamma=0.0001, kernel=sigmoid .............................\n",
      "[CV]  C=0.1, gamma=0.0001, kernel=sigmoid, score=0.4983996342021033, total=   0.7s\n",
      "[CV] C=0.1, gamma=0.0001, kernel=sigmoid .............................\n",
      "[CV]  C=0.1, gamma=0.0001, kernel=sigmoid, score=0.49862637362637363, total=   0.7s\n",
      "[CV] C=0.1, gamma=0.0005, kernel=linear ..............................\n",
      "[CV]  C=0.1, gamma=0.0005, kernel=linear, score=0.7832647462277091, total=   0.1s\n",
      "[CV] C=0.1, gamma=0.0005, kernel=linear ..............................\n",
      "[CV]  C=0.1, gamma=0.0005, kernel=linear, score=0.7722908093278463, total=   0.1s\n",
      "[CV] C=0.1, gamma=0.0005, kernel=linear ..............................\n",
      "[CV]  C=0.1, gamma=0.0005, kernel=linear, score=0.7756410256410257, total=   0.1s\n",
      "[CV] C=0.1, gamma=0.0005, kernel=poly ................................\n",
      "[CV]  C=0.1, gamma=0.0005, kernel=poly, score=0.4983996342021033, total=   0.5s\n",
      "[CV] C=0.1, gamma=0.0005, kernel=poly ................................\n",
      "[CV]  C=0.1, gamma=0.0005, kernel=poly, score=0.4983996342021033, total=   0.5s\n",
      "[CV] C=0.1, gamma=0.0005, kernel=poly ................................\n",
      "[CV]  C=0.1, gamma=0.0005, kernel=poly, score=0.49862637362637363, total=   0.5s\n",
      "[CV] C=0.1, gamma=0.0005, kernel=rbf .................................\n",
      "[CV]  C=0.1, gamma=0.0005, kernel=rbf, score=0.4983996342021033, total=   0.8s\n",
      "[CV] C=0.1, gamma=0.0005, kernel=rbf .................................\n",
      "[CV]  C=0.1, gamma=0.0005, kernel=rbf, score=0.4983996342021033, total=   0.8s\n",
      "[CV] C=0.1, gamma=0.0005, kernel=rbf .................................\n",
      "[CV]  C=0.1, gamma=0.0005, kernel=rbf, score=0.49862637362637363, total=   0.8s\n",
      "[CV] C=0.1, gamma=0.0005, kernel=sigmoid .............................\n",
      "[CV]  C=0.1, gamma=0.0005, kernel=sigmoid, score=0.4983996342021033, total=   0.7s\n",
      "[CV] C=0.1, gamma=0.0005, kernel=sigmoid .............................\n",
      "[CV]  C=0.1, gamma=0.0005, kernel=sigmoid, score=0.4983996342021033, total=   0.7s\n",
      "[CV] C=0.1, gamma=0.0005, kernel=sigmoid .............................\n",
      "[CV]  C=0.1, gamma=0.0005, kernel=sigmoid, score=0.49862637362637363, total=   0.7s\n",
      "[CV] C=0.1, gamma=0.001, kernel=linear ...............................\n",
      "[CV]  C=0.1, gamma=0.001, kernel=linear, score=0.7832647462277091, total=   0.1s\n",
      "[CV] C=0.1, gamma=0.001, kernel=linear ...............................\n",
      "[CV]  C=0.1, gamma=0.001, kernel=linear, score=0.7722908093278463, total=   0.1s\n",
      "[CV] C=0.1, gamma=0.001, kernel=linear ...............................\n",
      "[CV]  C=0.1, gamma=0.001, kernel=linear, score=0.7756410256410257, total=   0.1s\n",
      "[CV] C=0.1, gamma=0.001, kernel=poly .................................\n",
      "[CV]  C=0.1, gamma=0.001, kernel=poly, score=0.4983996342021033, total=   0.5s\n",
      "[CV] C=0.1, gamma=0.001, kernel=poly .................................\n",
      "[CV]  C=0.1, gamma=0.001, kernel=poly, score=0.4983996342021033, total=   0.5s\n",
      "[CV] C=0.1, gamma=0.001, kernel=poly .................................\n",
      "[CV]  C=0.1, gamma=0.001, kernel=poly, score=0.49862637362637363, total=   0.5s\n",
      "[CV] C=0.1, gamma=0.001, kernel=rbf ..................................\n",
      "[CV]  C=0.1, gamma=0.001, kernel=rbf, score=0.4983996342021033, total=   0.8s\n",
      "[CV] C=0.1, gamma=0.001, kernel=rbf ..................................\n",
      "[CV]  C=0.1, gamma=0.001, kernel=rbf, score=0.4983996342021033, total=   0.8s\n",
      "[CV] C=0.1, gamma=0.001, kernel=rbf ..................................\n",
      "[CV]  C=0.1, gamma=0.001, kernel=rbf, score=0.49862637362637363, total=   0.8s\n",
      "[CV] C=0.1, gamma=0.001, kernel=sigmoid ..............................\n",
      "[CV]  C=0.1, gamma=0.001, kernel=sigmoid, score=0.4983996342021033, total=   0.7s\n",
      "[CV] C=0.1, gamma=0.001, kernel=sigmoid ..............................\n",
      "[CV]  C=0.1, gamma=0.001, kernel=sigmoid, score=0.4983996342021033, total=   0.7s\n",
      "[CV] C=0.1, gamma=0.001, kernel=sigmoid ..............................\n",
      "[CV]  C=0.1, gamma=0.001, kernel=sigmoid, score=0.49862637362637363, total=   0.7s\n",
      "[CV] C=0.1, gamma=0.005, kernel=linear ...............................\n",
      "[CV]  C=0.1, gamma=0.005, kernel=linear, score=0.7832647462277091, total=   0.1s\n",
      "[CV] C=0.1, gamma=0.005, kernel=linear ...............................\n",
      "[CV]  C=0.1, gamma=0.005, kernel=linear, score=0.7722908093278463, total=   0.1s\n",
      "[CV] C=0.1, gamma=0.005, kernel=linear ...............................\n",
      "[CV]  C=0.1, gamma=0.005, kernel=linear, score=0.7756410256410257, total=   0.1s\n",
      "[CV] C=0.1, gamma=0.005, kernel=poly .................................\n",
      "[CV]  C=0.1, gamma=0.005, kernel=poly, score=0.4983996342021033, total=   0.5s\n",
      "[CV] C=0.1, gamma=0.005, kernel=poly .................................\n",
      "[CV]  C=0.1, gamma=0.005, kernel=poly, score=0.4983996342021033, total=   0.5s\n",
      "[CV] C=0.1, gamma=0.005, kernel=poly .................................\n",
      "[CV]  C=0.1, gamma=0.005, kernel=poly, score=0.49862637362637363, total=   0.5s\n",
      "[CV] C=0.1, gamma=0.005, kernel=rbf ..................................\n",
      "[CV]  C=0.1, gamma=0.005, kernel=rbf, score=0.4983996342021033, total=   0.8s\n",
      "[CV] C=0.1, gamma=0.005, kernel=rbf ..................................\n",
      "[CV]  C=0.1, gamma=0.005, kernel=rbf, score=0.4983996342021033, total=   0.8s\n",
      "[CV] C=0.1, gamma=0.005, kernel=rbf ..................................\n",
      "[CV]  C=0.1, gamma=0.005, kernel=rbf, score=0.49862637362637363, total=   0.8s\n",
      "[CV] C=0.1, gamma=0.005, kernel=sigmoid ..............................\n",
      "[CV]  C=0.1, gamma=0.005, kernel=sigmoid, score=0.4983996342021033, total=   0.8s\n",
      "[CV] C=0.1, gamma=0.005, kernel=sigmoid ..............................\n",
      "[CV]  C=0.1, gamma=0.005, kernel=sigmoid, score=0.4983996342021033, total=   0.7s\n",
      "[CV] C=0.1, gamma=0.005, kernel=sigmoid ..............................\n",
      "[CV]  C=0.1, gamma=0.005, kernel=sigmoid, score=0.49862637362637363, total=   0.7s\n",
      "[CV] C=1, gamma=0.0001, kernel=linear ................................\n",
      "[CV]  C=1, gamma=0.0001, kernel=linear, score=0.790580704160951, total=   0.1s\n",
      "[CV] C=1, gamma=0.0001, kernel=linear ................................\n",
      "[CV]  C=1, gamma=0.0001, kernel=linear, score=0.7988111568358482, total=   0.1s\n",
      "[CV] C=1, gamma=0.0001, kernel=linear ................................\n",
      "[CV]  C=1, gamma=0.0001, kernel=linear, score=0.7756410256410257, total=   0.1s\n",
      "[CV] C=1, gamma=0.0001, kernel=poly ..................................\n",
      "[CV]  C=1, gamma=0.0001, kernel=poly, score=0.4983996342021033, total=   0.5s\n",
      "[CV] C=1, gamma=0.0001, kernel=poly ..................................\n",
      "[CV]  C=1, gamma=0.0001, kernel=poly, score=0.4983996342021033, total=   0.5s\n",
      "[CV] C=1, gamma=0.0001, kernel=poly ..................................\n",
      "[CV]  C=1, gamma=0.0001, kernel=poly, score=0.49862637362637363, total=   0.5s\n",
      "[CV] C=1, gamma=0.0001, kernel=rbf ...................................\n",
      "[CV]  C=1, gamma=0.0001, kernel=rbf, score=0.4983996342021033, total=   0.8s\n",
      "[CV] C=1, gamma=0.0001, kernel=rbf ...................................\n",
      "[CV]  C=1, gamma=0.0001, kernel=rbf, score=0.4983996342021033, total=   0.8s\n",
      "[CV] C=1, gamma=0.0001, kernel=rbf ...................................\n",
      "[CV]  C=1, gamma=0.0001, kernel=rbf, score=0.49862637362637363, total=   0.8s\n",
      "[CV] C=1, gamma=0.0001, kernel=sigmoid ...............................\n"
     ]
    },
    {
     "name": "stdout",
     "output_type": "stream",
     "text": [
      "[CV]  C=1, gamma=0.0001, kernel=sigmoid, score=0.4983996342021033, total=   0.7s\n",
      "[CV] C=1, gamma=0.0001, kernel=sigmoid ...............................\n",
      "[CV]  C=1, gamma=0.0001, kernel=sigmoid, score=0.4983996342021033, total=   0.8s\n",
      "[CV] C=1, gamma=0.0001, kernel=sigmoid ...............................\n",
      "[CV]  C=1, gamma=0.0001, kernel=sigmoid, score=0.49862637362637363, total=   0.7s\n",
      "[CV] C=1, gamma=0.0005, kernel=linear ................................\n",
      "[CV]  C=1, gamma=0.0005, kernel=linear, score=0.790580704160951, total=   0.1s\n",
      "[CV] C=1, gamma=0.0005, kernel=linear ................................\n",
      "[CV]  C=1, gamma=0.0005, kernel=linear, score=0.7988111568358482, total=   0.1s\n",
      "[CV] C=1, gamma=0.0005, kernel=linear ................................\n",
      "[CV]  C=1, gamma=0.0005, kernel=linear, score=0.7756410256410257, total=   0.1s\n",
      "[CV] C=1, gamma=0.0005, kernel=poly ..................................\n",
      "[CV]  C=1, gamma=0.0005, kernel=poly, score=0.4983996342021033, total=   0.5s\n",
      "[CV] C=1, gamma=0.0005, kernel=poly ..................................\n",
      "[CV]  C=1, gamma=0.0005, kernel=poly, score=0.4983996342021033, total=   0.5s\n",
      "[CV] C=1, gamma=0.0005, kernel=poly ..................................\n",
      "[CV]  C=1, gamma=0.0005, kernel=poly, score=0.49862637362637363, total=   0.5s\n",
      "[CV] C=1, gamma=0.0005, kernel=rbf ...................................\n",
      "[CV]  C=1, gamma=0.0005, kernel=rbf, score=0.4983996342021033, total=   0.8s\n",
      "[CV] C=1, gamma=0.0005, kernel=rbf ...................................\n",
      "[CV]  C=1, gamma=0.0005, kernel=rbf, score=0.4983996342021033, total=   0.8s\n",
      "[CV] C=1, gamma=0.0005, kernel=rbf ...................................\n",
      "[CV]  C=1, gamma=0.0005, kernel=rbf, score=0.49862637362637363, total=   0.8s\n",
      "[CV] C=1, gamma=0.0005, kernel=sigmoid ...............................\n",
      "[CV]  C=1, gamma=0.0005, kernel=sigmoid, score=0.4983996342021033, total=   0.7s\n",
      "[CV] C=1, gamma=0.0005, kernel=sigmoid ...............................\n",
      "[CV]  C=1, gamma=0.0005, kernel=sigmoid, score=0.4983996342021033, total=   0.7s\n",
      "[CV] C=1, gamma=0.0005, kernel=sigmoid ...............................\n",
      "[CV]  C=1, gamma=0.0005, kernel=sigmoid, score=0.49862637362637363, total=   0.7s\n",
      "[CV] C=1, gamma=0.001, kernel=linear .................................\n",
      "[CV]  C=1, gamma=0.001, kernel=linear, score=0.790580704160951, total=   0.1s\n",
      "[CV] C=1, gamma=0.001, kernel=linear .................................\n",
      "[CV]  C=1, gamma=0.001, kernel=linear, score=0.7988111568358482, total=   0.1s\n",
      "[CV] C=1, gamma=0.001, kernel=linear .................................\n",
      "[CV]  C=1, gamma=0.001, kernel=linear, score=0.7756410256410257, total=   0.1s\n",
      "[CV] C=1, gamma=0.001, kernel=poly ...................................\n",
      "[CV]  C=1, gamma=0.001, kernel=poly, score=0.4983996342021033, total=   0.5s\n",
      "[CV] C=1, gamma=0.001, kernel=poly ...................................\n",
      "[CV]  C=1, gamma=0.001, kernel=poly, score=0.4983996342021033, total=   0.5s\n",
      "[CV] C=1, gamma=0.001, kernel=poly ...................................\n",
      "[CV]  C=1, gamma=0.001, kernel=poly, score=0.49862637362637363, total=   0.5s\n",
      "[CV] C=1, gamma=0.001, kernel=rbf ....................................\n",
      "[CV]  C=1, gamma=0.001, kernel=rbf, score=0.4983996342021033, total=   0.8s\n",
      "[CV] C=1, gamma=0.001, kernel=rbf ....................................\n",
      "[CV]  C=1, gamma=0.001, kernel=rbf, score=0.4983996342021033, total=   0.8s\n",
      "[CV] C=1, gamma=0.001, kernel=rbf ....................................\n",
      "[CV]  C=1, gamma=0.001, kernel=rbf, score=0.49862637362637363, total=   0.8s\n",
      "[CV] C=1, gamma=0.001, kernel=sigmoid ................................\n",
      "[CV]  C=1, gamma=0.001, kernel=sigmoid, score=0.4983996342021033, total=   0.7s\n",
      "[CV] C=1, gamma=0.001, kernel=sigmoid ................................\n",
      "[CV]  C=1, gamma=0.001, kernel=sigmoid, score=0.4983996342021033, total=   0.7s\n",
      "[CV] C=1, gamma=0.001, kernel=sigmoid ................................\n",
      "[CV]  C=1, gamma=0.001, kernel=sigmoid, score=0.49862637362637363, total=   0.7s\n",
      "[CV] C=1, gamma=0.005, kernel=linear .................................\n",
      "[CV]  C=1, gamma=0.005, kernel=linear, score=0.790580704160951, total=   0.1s\n",
      "[CV] C=1, gamma=0.005, kernel=linear .................................\n",
      "[CV]  C=1, gamma=0.005, kernel=linear, score=0.7988111568358482, total=   0.1s\n",
      "[CV] C=1, gamma=0.005, kernel=linear .................................\n",
      "[CV]  C=1, gamma=0.005, kernel=linear, score=0.7756410256410257, total=   0.1s\n",
      "[CV] C=1, gamma=0.005, kernel=poly ...................................\n",
      "[CV]  C=1, gamma=0.005, kernel=poly, score=0.4983996342021033, total=   0.5s\n",
      "[CV] C=1, gamma=0.005, kernel=poly ...................................\n",
      "[CV]  C=1, gamma=0.005, kernel=poly, score=0.4983996342021033, total=   0.5s\n",
      "[CV] C=1, gamma=0.005, kernel=poly ...................................\n",
      "[CV]  C=1, gamma=0.005, kernel=poly, score=0.49862637362637363, total=   0.5s\n",
      "[CV] C=1, gamma=0.005, kernel=rbf ....................................\n",
      "[CV]  C=1, gamma=0.005, kernel=rbf, score=0.7375400091449474, total=   0.6s\n",
      "[CV] C=1, gamma=0.005, kernel=rbf ....................................\n",
      "[CV]  C=1, gamma=0.005, kernel=rbf, score=0.7338820301783264, total=   0.6s\n",
      "[CV] C=1, gamma=0.005, kernel=rbf ....................................\n",
      "[CV]  C=1, gamma=0.005, kernel=rbf, score=0.7348901098901099, total=   0.6s\n",
      "[CV] C=1, gamma=0.005, kernel=sigmoid ................................\n",
      "[CV]  C=1, gamma=0.005, kernel=sigmoid, score=0.7375400091449474, total=   0.7s\n",
      "[CV] C=1, gamma=0.005, kernel=sigmoid ................................\n",
      "[CV]  C=1, gamma=0.005, kernel=sigmoid, score=0.7338820301783264, total=   0.7s\n",
      "[CV] C=1, gamma=0.005, kernel=sigmoid ................................\n",
      "[CV]  C=1, gamma=0.005, kernel=sigmoid, score=0.7348901098901099, total=   0.7s\n",
      "[CV] C=5, gamma=0.0001, kernel=linear ................................\n",
      "[CV]  C=5, gamma=0.0001, kernel=linear, score=0.790580704160951, total=   0.1s\n",
      "[CV] C=5, gamma=0.0001, kernel=linear ................................\n",
      "[CV]  C=5, gamma=0.0001, kernel=linear, score=0.7937814357567444, total=   0.1s\n",
      "[CV] C=5, gamma=0.0001, kernel=linear ................................\n",
      "[CV]  C=5, gamma=0.0001, kernel=linear, score=0.7673992673992674, total=   0.1s\n",
      "[CV] C=5, gamma=0.0001, kernel=poly ..................................\n",
      "[CV]  C=5, gamma=0.0001, kernel=poly, score=0.4983996342021033, total=   0.5s\n",
      "[CV] C=5, gamma=0.0001, kernel=poly ..................................\n",
      "[CV]  C=5, gamma=0.0001, kernel=poly, score=0.4983996342021033, total=   0.5s\n",
      "[CV] C=5, gamma=0.0001, kernel=poly ..................................\n",
      "[CV]  C=5, gamma=0.0001, kernel=poly, score=0.49862637362637363, total=   0.5s\n",
      "[CV] C=5, gamma=0.0001, kernel=rbf ...................................\n",
      "[CV]  C=5, gamma=0.0001, kernel=rbf, score=0.4983996342021033, total=   0.8s\n",
      "[CV] C=5, gamma=0.0001, kernel=rbf ...................................\n",
      "[CV]  C=5, gamma=0.0001, kernel=rbf, score=0.4983996342021033, total=   0.8s\n",
      "[CV] C=5, gamma=0.0001, kernel=rbf ...................................\n",
      "[CV]  C=5, gamma=0.0001, kernel=rbf, score=0.49862637362637363, total=   0.8s\n",
      "[CV] C=5, gamma=0.0001, kernel=sigmoid ...............................\n",
      "[CV]  C=5, gamma=0.0001, kernel=sigmoid, score=0.4983996342021033, total=   0.7s\n",
      "[CV] C=5, gamma=0.0001, kernel=sigmoid ...............................\n",
      "[CV]  C=5, gamma=0.0001, kernel=sigmoid, score=0.4983996342021033, total=   0.7s\n",
      "[CV] C=5, gamma=0.0001, kernel=sigmoid ...............................\n",
      "[CV]  C=5, gamma=0.0001, kernel=sigmoid, score=0.49862637362637363, total=   0.7s\n",
      "[CV] C=5, gamma=0.0005, kernel=linear ................................\n",
      "[CV]  C=5, gamma=0.0005, kernel=linear, score=0.790580704160951, total=   0.1s\n",
      "[CV] C=5, gamma=0.0005, kernel=linear ................................\n",
      "[CV]  C=5, gamma=0.0005, kernel=linear, score=0.7937814357567444, total=   0.1s\n",
      "[CV] C=5, gamma=0.0005, kernel=linear ................................\n",
      "[CV]  C=5, gamma=0.0005, kernel=linear, score=0.7673992673992674, total=   0.1s\n",
      "[CV] C=5, gamma=0.0005, kernel=poly ..................................\n",
      "[CV]  C=5, gamma=0.0005, kernel=poly, score=0.4983996342021033, total=   0.5s\n",
      "[CV] C=5, gamma=0.0005, kernel=poly ..................................\n"
     ]
    },
    {
     "name": "stdout",
     "output_type": "stream",
     "text": [
      "[CV]  C=5, gamma=0.0005, kernel=poly, score=0.4983996342021033, total=   0.5s\n",
      "[CV] C=5, gamma=0.0005, kernel=poly ..................................\n",
      "[CV]  C=5, gamma=0.0005, kernel=poly, score=0.49862637362637363, total=   0.5s\n",
      "[CV] C=5, gamma=0.0005, kernel=rbf ...................................\n",
      "[CV]  C=5, gamma=0.0005, kernel=rbf, score=0.7375400091449474, total=   0.8s\n",
      "[CV] C=5, gamma=0.0005, kernel=rbf ...................................\n",
      "[CV]  C=5, gamma=0.0005, kernel=rbf, score=0.7338820301783264, total=   0.8s\n",
      "[CV] C=5, gamma=0.0005, kernel=rbf ...................................\n",
      "[CV]  C=5, gamma=0.0005, kernel=rbf, score=0.7348901098901099, total=   0.9s\n",
      "[CV] C=5, gamma=0.0005, kernel=sigmoid ...............................\n",
      "[CV]  C=5, gamma=0.0005, kernel=sigmoid, score=0.4983996342021033, total=   0.7s\n",
      "[CV] C=5, gamma=0.0005, kernel=sigmoid ...............................\n",
      "[CV]  C=5, gamma=0.0005, kernel=sigmoid, score=0.49885688157293095, total=   0.7s\n",
      "[CV] C=5, gamma=0.0005, kernel=sigmoid ...............................\n",
      "[CV]  C=5, gamma=0.0005, kernel=sigmoid, score=0.49862637362637363, total=   0.7s\n",
      "[CV] C=5, gamma=0.001, kernel=linear .................................\n",
      "[CV]  C=5, gamma=0.001, kernel=linear, score=0.790580704160951, total=   0.1s\n",
      "[CV] C=5, gamma=0.001, kernel=linear .................................\n",
      "[CV]  C=5, gamma=0.001, kernel=linear, score=0.7937814357567444, total=   0.1s\n",
      "[CV] C=5, gamma=0.001, kernel=linear .................................\n",
      "[CV]  C=5, gamma=0.001, kernel=linear, score=0.7673992673992674, total=   0.1s\n",
      "[CV] C=5, gamma=0.001, kernel=poly ...................................\n",
      "[CV]  C=5, gamma=0.001, kernel=poly, score=0.4983996342021033, total=   0.5s\n",
      "[CV] C=5, gamma=0.001, kernel=poly ...................................\n",
      "[CV]  C=5, gamma=0.001, kernel=poly, score=0.4983996342021033, total=   0.5s\n",
      "[CV] C=5, gamma=0.001, kernel=poly ...................................\n",
      "[CV]  C=5, gamma=0.001, kernel=poly, score=0.49862637362637363, total=   0.5s\n",
      "[CV] C=5, gamma=0.001, kernel=rbf ....................................\n",
      "[CV]  C=5, gamma=0.001, kernel=rbf, score=0.7375400091449474, total=   0.6s\n",
      "[CV] C=5, gamma=0.001, kernel=rbf ....................................\n",
      "[CV]  C=5, gamma=0.001, kernel=rbf, score=0.7338820301783264, total=   0.6s\n",
      "[CV] C=5, gamma=0.001, kernel=rbf ....................................\n",
      "[CV]  C=5, gamma=0.001, kernel=rbf, score=0.7348901098901099, total=   0.6s\n",
      "[CV] C=5, gamma=0.001, kernel=sigmoid ................................\n",
      "[CV]  C=5, gamma=0.001, kernel=sigmoid, score=0.7375400091449474, total=   0.7s\n",
      "[CV] C=5, gamma=0.001, kernel=sigmoid ................................\n",
      "[CV]  C=5, gamma=0.001, kernel=sigmoid, score=0.7338820301783264, total=   0.7s\n",
      "[CV] C=5, gamma=0.001, kernel=sigmoid ................................\n",
      "[CV]  C=5, gamma=0.001, kernel=sigmoid, score=0.7348901098901099, total=   0.8s\n",
      "[CV] C=5, gamma=0.005, kernel=linear .................................\n",
      "[CV]  C=5, gamma=0.005, kernel=linear, score=0.790580704160951, total=   0.1s\n",
      "[CV] C=5, gamma=0.005, kernel=linear .................................\n",
      "[CV]  C=5, gamma=0.005, kernel=linear, score=0.7937814357567444, total=   0.1s\n",
      "[CV] C=5, gamma=0.005, kernel=linear .................................\n",
      "[CV]  C=5, gamma=0.005, kernel=linear, score=0.7673992673992674, total=   0.1s\n",
      "[CV] C=5, gamma=0.005, kernel=poly ...................................\n",
      "[CV]  C=5, gamma=0.005, kernel=poly, score=0.4983996342021033, total=   0.5s\n",
      "[CV] C=5, gamma=0.005, kernel=poly ...................................\n",
      "[CV]  C=5, gamma=0.005, kernel=poly, score=0.4983996342021033, total=   0.5s\n",
      "[CV] C=5, gamma=0.005, kernel=poly ...................................\n",
      "[CV]  C=5, gamma=0.005, kernel=poly, score=0.49862637362637363, total=   0.5s\n",
      "[CV] C=5, gamma=0.005, kernel=rbf ....................................\n",
      "[CV]  C=5, gamma=0.005, kernel=rbf, score=0.7695473251028807, total=   0.4s\n",
      "[CV] C=5, gamma=0.005, kernel=rbf ....................................\n",
      "[CV]  C=5, gamma=0.005, kernel=rbf, score=0.7521719250114312, total=   0.4s\n",
      "[CV] C=5, gamma=0.005, kernel=rbf ....................................\n",
      "[CV]  C=5, gamma=0.005, kernel=rbf, score=0.760989010989011, total=   0.4s\n",
      "[CV] C=5, gamma=0.005, kernel=sigmoid ................................\n",
      "[CV]  C=5, gamma=0.005, kernel=sigmoid, score=0.7379972565157751, total=   0.3s\n",
      "[CV] C=5, gamma=0.005, kernel=sigmoid ................................\n",
      "[CV]  C=5, gamma=0.005, kernel=sigmoid, score=0.7338820301783264, total=   0.3s\n",
      "[CV] C=5, gamma=0.005, kernel=sigmoid ................................\n",
      "[CV]  C=5, gamma=0.005, kernel=sigmoid, score=0.7358058608058609, total=   0.3s\n",
      "[CV] C=10, gamma=0.0001, kernel=linear ...............................\n",
      "[CV]  C=10, gamma=0.0001, kernel=linear, score=0.788294467306813, total=   0.1s\n",
      "[CV] C=10, gamma=0.0001, kernel=linear ...............................\n",
      "[CV]  C=10, gamma=0.0001, kernel=linear, score=0.7942386831275721, total=   0.1s\n",
      "[CV] C=10, gamma=0.0001, kernel=linear ...............................\n",
      "[CV]  C=10, gamma=0.0001, kernel=linear, score=0.7673992673992674, total=   0.1s\n",
      "[CV] C=10, gamma=0.0001, kernel=poly .................................\n",
      "[CV]  C=10, gamma=0.0001, kernel=poly, score=0.4983996342021033, total=   0.5s\n",
      "[CV] C=10, gamma=0.0001, kernel=poly .................................\n",
      "[CV]  C=10, gamma=0.0001, kernel=poly, score=0.4983996342021033, total=   0.5s\n",
      "[CV] C=10, gamma=0.0001, kernel=poly .................................\n",
      "[CV]  C=10, gamma=0.0001, kernel=poly, score=0.49862637362637363, total=   0.5s\n",
      "[CV] C=10, gamma=0.0001, kernel=rbf ..................................\n",
      "[CV]  C=10, gamma=0.0001, kernel=rbf, score=0.4983996342021033, total=   0.8s\n",
      "[CV] C=10, gamma=0.0001, kernel=rbf ..................................\n",
      "[CV]  C=10, gamma=0.0001, kernel=rbf, score=0.4983996342021033, total=   0.8s\n",
      "[CV] C=10, gamma=0.0001, kernel=rbf ..................................\n",
      "[CV]  C=10, gamma=0.0001, kernel=rbf, score=0.49862637362637363, total=   0.8s\n",
      "[CV] C=10, gamma=0.0001, kernel=sigmoid ..............................\n",
      "[CV]  C=10, gamma=0.0001, kernel=sigmoid, score=0.4983996342021033, total=   0.7s\n",
      "[CV] C=10, gamma=0.0001, kernel=sigmoid ..............................\n",
      "[CV]  C=10, gamma=0.0001, kernel=sigmoid, score=0.4983996342021033, total=   0.7s\n",
      "[CV] C=10, gamma=0.0001, kernel=sigmoid ..............................\n",
      "[CV]  C=10, gamma=0.0001, kernel=sigmoid, score=0.49862637362637363, total=   0.7s\n",
      "[CV] C=10, gamma=0.0005, kernel=linear ...............................\n",
      "[CV]  C=10, gamma=0.0005, kernel=linear, score=0.788294467306813, total=   0.1s\n",
      "[CV] C=10, gamma=0.0005, kernel=linear ...............................\n",
      "[CV]  C=10, gamma=0.0005, kernel=linear, score=0.7942386831275721, total=   0.1s\n",
      "[CV] C=10, gamma=0.0005, kernel=linear ...............................\n",
      "[CV]  C=10, gamma=0.0005, kernel=linear, score=0.7673992673992674, total=   0.1s\n",
      "[CV] C=10, gamma=0.0005, kernel=poly .................................\n",
      "[CV]  C=10, gamma=0.0005, kernel=poly, score=0.4983996342021033, total=   0.5s\n",
      "[CV] C=10, gamma=0.0005, kernel=poly .................................\n",
      "[CV]  C=10, gamma=0.0005, kernel=poly, score=0.4983996342021033, total=   0.5s\n",
      "[CV] C=10, gamma=0.0005, kernel=poly .................................\n",
      "[CV]  C=10, gamma=0.0005, kernel=poly, score=0.49862637362637363, total=   0.5s\n",
      "[CV] C=10, gamma=0.0005, kernel=rbf ..................................\n",
      "[CV]  C=10, gamma=0.0005, kernel=rbf, score=0.7375400091449474, total=   0.6s\n",
      "[CV] C=10, gamma=0.0005, kernel=rbf ..................................\n",
      "[CV]  C=10, gamma=0.0005, kernel=rbf, score=0.7338820301783264, total=   0.6s\n",
      "[CV] C=10, gamma=0.0005, kernel=rbf ..................................\n",
      "[CV]  C=10, gamma=0.0005, kernel=rbf, score=0.7348901098901099, total=   0.6s\n",
      "[CV] C=10, gamma=0.0005, kernel=sigmoid ..............................\n",
      "[CV]  C=10, gamma=0.0005, kernel=sigmoid, score=0.7375400091449474, total=   0.7s\n",
      "[CV] C=10, gamma=0.0005, kernel=sigmoid ..............................\n",
      "[CV]  C=10, gamma=0.0005, kernel=sigmoid, score=0.7338820301783264, total=   0.7s\n",
      "[CV] C=10, gamma=0.0005, kernel=sigmoid ..............................\n"
     ]
    },
    {
     "name": "stdout",
     "output_type": "stream",
     "text": [
      "[CV]  C=10, gamma=0.0005, kernel=sigmoid, score=0.7348901098901099, total=   0.7s\n",
      "[CV] C=10, gamma=0.001, kernel=linear ................................\n",
      "[CV]  C=10, gamma=0.001, kernel=linear, score=0.788294467306813, total=   0.1s\n",
      "[CV] C=10, gamma=0.001, kernel=linear ................................\n",
      "[CV]  C=10, gamma=0.001, kernel=linear, score=0.7942386831275721, total=   0.1s\n",
      "[CV] C=10, gamma=0.001, kernel=linear ................................\n",
      "[CV]  C=10, gamma=0.001, kernel=linear, score=0.7673992673992674, total=   0.1s\n",
      "[CV] C=10, gamma=0.001, kernel=poly ..................................\n",
      "[CV]  C=10, gamma=0.001, kernel=poly, score=0.4983996342021033, total=   0.5s\n",
      "[CV] C=10, gamma=0.001, kernel=poly ..................................\n",
      "[CV]  C=10, gamma=0.001, kernel=poly, score=0.4983996342021033, total=   0.5s\n",
      "[CV] C=10, gamma=0.001, kernel=poly ..................................\n",
      "[CV]  C=10, gamma=0.001, kernel=poly, score=0.49862637362637363, total=   0.5s\n",
      "[CV] C=10, gamma=0.001, kernel=rbf ...................................\n",
      "[CV]  C=10, gamma=0.001, kernel=rbf, score=0.7375400091449474, total=   0.4s\n",
      "[CV] C=10, gamma=0.001, kernel=rbf ...................................\n",
      "[CV]  C=10, gamma=0.001, kernel=rbf, score=0.7338820301783264, total=   0.4s\n",
      "[CV] C=10, gamma=0.001, kernel=rbf ...................................\n",
      "[CV]  C=10, gamma=0.001, kernel=rbf, score=0.7348901098901099, total=   0.4s\n",
      "[CV] C=10, gamma=0.001, kernel=sigmoid ...............................\n",
      "[CV]  C=10, gamma=0.001, kernel=sigmoid, score=0.7375400091449474, total=   0.5s\n",
      "[CV] C=10, gamma=0.001, kernel=sigmoid ...............................\n",
      "[CV]  C=10, gamma=0.001, kernel=sigmoid, score=0.7338820301783264, total=   0.5s\n",
      "[CV] C=10, gamma=0.001, kernel=sigmoid ...............................\n",
      "[CV]  C=10, gamma=0.001, kernel=sigmoid, score=0.7348901098901099, total=   0.5s\n",
      "[CV] C=10, gamma=0.005, kernel=linear ................................\n",
      "[CV]  C=10, gamma=0.005, kernel=linear, score=0.788294467306813, total=   0.1s\n",
      "[CV] C=10, gamma=0.005, kernel=linear ................................\n",
      "[CV]  C=10, gamma=0.005, kernel=linear, score=0.7942386831275721, total=   0.1s\n",
      "[CV] C=10, gamma=0.005, kernel=linear ................................\n",
      "[CV]  C=10, gamma=0.005, kernel=linear, score=0.7673992673992674, total=   0.1s\n",
      "[CV] C=10, gamma=0.005, kernel=poly ..................................\n",
      "[CV]  C=10, gamma=0.005, kernel=poly, score=0.4983996342021033, total=   0.5s\n",
      "[CV] C=10, gamma=0.005, kernel=poly ..................................\n",
      "[CV]  C=10, gamma=0.005, kernel=poly, score=0.4983996342021033, total=   0.5s\n",
      "[CV] C=10, gamma=0.005, kernel=poly ..................................\n",
      "[CV]  C=10, gamma=0.005, kernel=poly, score=0.49862637362637363, total=   0.5s\n",
      "[CV] C=10, gamma=0.005, kernel=rbf ...................................\n",
      "[CV]  C=10, gamma=0.005, kernel=rbf, score=0.7832647462277091, total=   0.4s\n",
      "[CV] C=10, gamma=0.005, kernel=rbf ...................................\n",
      "[CV]  C=10, gamma=0.005, kernel=rbf, score=0.7722908093278463, total=   0.4s\n",
      "[CV] C=10, gamma=0.005, kernel=rbf ...................................\n",
      "[CV]  C=10, gamma=0.005, kernel=rbf, score=0.7751831501831502, total=   0.4s\n",
      "[CV] C=10, gamma=0.005, kernel=sigmoid ...............................\n",
      "[CV]  C=10, gamma=0.005, kernel=sigmoid, score=0.7690900777320531, total=   0.3s\n",
      "[CV] C=10, gamma=0.005, kernel=sigmoid ...............................\n",
      "[CV]  C=10, gamma=0.005, kernel=sigmoid, score=0.7521719250114312, total=   0.3s\n",
      "[CV] C=10, gamma=0.005, kernel=sigmoid ...............................\n",
      "[CV]  C=10, gamma=0.005, kernel=sigmoid, score=0.7614468864468864, total=   0.3s\n",
      "[CV] C=50, gamma=0.0001, kernel=linear ...............................\n",
      "[CV]  C=50, gamma=0.0001, kernel=linear, score=0.7901234567901234, total=   0.3s\n",
      "[CV] C=50, gamma=0.0001, kernel=linear ...............................\n",
      "[CV]  C=50, gamma=0.0001, kernel=linear, score=0.7942386831275721, total=   0.2s\n",
      "[CV] C=50, gamma=0.0001, kernel=linear ...............................\n",
      "[CV]  C=50, gamma=0.0001, kernel=linear, score=0.7692307692307693, total=   0.2s\n",
      "[CV] C=50, gamma=0.0001, kernel=poly .................................\n",
      "[CV]  C=50, gamma=0.0001, kernel=poly, score=0.4983996342021033, total=   0.5s\n",
      "[CV] C=50, gamma=0.0001, kernel=poly .................................\n",
      "[CV]  C=50, gamma=0.0001, kernel=poly, score=0.4983996342021033, total=   0.5s\n",
      "[CV] C=50, gamma=0.0001, kernel=poly .................................\n",
      "[CV]  C=50, gamma=0.0001, kernel=poly, score=0.49862637362637363, total=   0.5s\n",
      "[CV] C=50, gamma=0.0001, kernel=rbf ..................................\n",
      "[CV]  C=50, gamma=0.0001, kernel=rbf, score=0.7375400091449474, total=   0.6s\n",
      "[CV] C=50, gamma=0.0001, kernel=rbf ..................................\n",
      "[CV]  C=50, gamma=0.0001, kernel=rbf, score=0.7338820301783264, total=   0.6s\n",
      "[CV] C=50, gamma=0.0001, kernel=rbf ..................................\n",
      "[CV]  C=50, gamma=0.0001, kernel=rbf, score=0.7348901098901099, total=   0.6s\n",
      "[CV] C=50, gamma=0.0001, kernel=sigmoid ..............................\n",
      "[CV]  C=50, gamma=0.0001, kernel=sigmoid, score=0.7375400091449474, total=   0.8s\n",
      "[CV] C=50, gamma=0.0001, kernel=sigmoid ..............................\n",
      "[CV]  C=50, gamma=0.0001, kernel=sigmoid, score=0.7338820301783264, total=   0.8s\n",
      "[CV] C=50, gamma=0.0001, kernel=sigmoid ..............................\n",
      "[CV]  C=50, gamma=0.0001, kernel=sigmoid, score=0.7348901098901099, total=   0.8s\n",
      "[CV] C=50, gamma=0.0005, kernel=linear ...............................\n",
      "[CV]  C=50, gamma=0.0005, kernel=linear, score=0.7901234567901234, total=   0.3s\n",
      "[CV] C=50, gamma=0.0005, kernel=linear ...............................\n",
      "[CV]  C=50, gamma=0.0005, kernel=linear, score=0.7942386831275721, total=   0.2s\n",
      "[CV] C=50, gamma=0.0005, kernel=linear ...............................\n",
      "[CV]  C=50, gamma=0.0005, kernel=linear, score=0.7692307692307693, total=   0.2s\n",
      "[CV] C=50, gamma=0.0005, kernel=poly .................................\n",
      "[CV]  C=50, gamma=0.0005, kernel=poly, score=0.4983996342021033, total=   0.5s\n",
      "[CV] C=50, gamma=0.0005, kernel=poly .................................\n",
      "[CV]  C=50, gamma=0.0005, kernel=poly, score=0.4983996342021033, total=   0.5s\n",
      "[CV] C=50, gamma=0.0005, kernel=poly .................................\n",
      "[CV]  C=50, gamma=0.0005, kernel=poly, score=0.49862637362637363, total=   0.5s\n",
      "[CV] C=50, gamma=0.0005, kernel=rbf ..................................\n",
      "[CV]  C=50, gamma=0.0005, kernel=rbf, score=0.7690900777320531, total=   0.3s\n",
      "[CV] C=50, gamma=0.0005, kernel=rbf ..................................\n",
      "[CV]  C=50, gamma=0.0005, kernel=rbf, score=0.7521719250114312, total=   0.3s\n",
      "[CV] C=50, gamma=0.0005, kernel=rbf ..................................\n",
      "[CV]  C=50, gamma=0.0005, kernel=rbf, score=0.7614468864468864, total=   0.3s\n",
      "[CV] C=50, gamma=0.0005, kernel=sigmoid ..............................\n",
      "[CV]  C=50, gamma=0.0005, kernel=sigmoid, score=0.7379972565157751, total=   0.4s\n",
      "[CV] C=50, gamma=0.0005, kernel=sigmoid ..............................\n",
      "[CV]  C=50, gamma=0.0005, kernel=sigmoid, score=0.7338820301783264, total=   0.3s\n",
      "[CV] C=50, gamma=0.0005, kernel=sigmoid ..............................\n",
      "[CV]  C=50, gamma=0.0005, kernel=sigmoid, score=0.7358058608058609, total=   0.3s\n",
      "[CV] C=50, gamma=0.001, kernel=linear ................................\n",
      "[CV]  C=50, gamma=0.001, kernel=linear, score=0.7901234567901234, total=   0.2s\n",
      "[CV] C=50, gamma=0.001, kernel=linear ................................\n",
      "[CV]  C=50, gamma=0.001, kernel=linear, score=0.7942386831275721, total=   0.2s\n",
      "[CV] C=50, gamma=0.001, kernel=linear ................................\n",
      "[CV]  C=50, gamma=0.001, kernel=linear, score=0.7692307692307693, total=   0.2s\n",
      "[CV] C=50, gamma=0.001, kernel=poly ..................................\n",
      "[CV]  C=50, gamma=0.001, kernel=poly, score=0.4983996342021033, total=   0.5s\n",
      "[CV] C=50, gamma=0.001, kernel=poly ..................................\n",
      "[CV]  C=50, gamma=0.001, kernel=poly, score=0.4983996342021033, total=   0.5s\n",
      "[CV] C=50, gamma=0.001, kernel=poly ..................................\n",
      "[CV]  C=50, gamma=0.001, kernel=poly, score=0.49862637362637363, total=   0.5s\n",
      "[CV] C=50, gamma=0.001, kernel=rbf ...................................\n"
     ]
    },
    {
     "name": "stdout",
     "output_type": "stream",
     "text": [
      "[CV]  C=50, gamma=0.001, kernel=rbf, score=0.7832647462277091, total=   0.4s\n",
      "[CV] C=50, gamma=0.001, kernel=rbf ...................................\n",
      "[CV]  C=50, gamma=0.001, kernel=rbf, score=0.772748056698674, total=   0.4s\n",
      "[CV] C=50, gamma=0.001, kernel=rbf ...................................\n",
      "[CV]  C=50, gamma=0.001, kernel=rbf, score=0.7751831501831502, total=   0.3s\n",
      "[CV] C=50, gamma=0.001, kernel=sigmoid ...............................\n",
      "[CV]  C=50, gamma=0.001, kernel=sigmoid, score=0.7690900777320531, total=   0.3s\n",
      "[CV] C=50, gamma=0.001, kernel=sigmoid ...............................\n",
      "[CV]  C=50, gamma=0.001, kernel=sigmoid, score=0.7521719250114312, total=   0.3s\n",
      "[CV] C=50, gamma=0.001, kernel=sigmoid ...............................\n",
      "[CV]  C=50, gamma=0.001, kernel=sigmoid, score=0.7614468864468864, total=   0.3s\n",
      "[CV] C=50, gamma=0.005, kernel=linear ................................\n",
      "[CV]  C=50, gamma=0.005, kernel=linear, score=0.7901234567901234, total=   0.2s\n",
      "[CV] C=50, gamma=0.005, kernel=linear ................................\n",
      "[CV]  C=50, gamma=0.005, kernel=linear, score=0.7942386831275721, total=   0.2s\n",
      "[CV] C=50, gamma=0.005, kernel=linear ................................\n",
      "[CV]  C=50, gamma=0.005, kernel=linear, score=0.7692307692307693, total=   0.3s\n",
      "[CV] C=50, gamma=0.005, kernel=poly ..................................\n",
      "[CV]  C=50, gamma=0.005, kernel=poly, score=0.4983996342021033, total=   0.6s\n",
      "[CV] C=50, gamma=0.005, kernel=poly ..................................\n",
      "[CV]  C=50, gamma=0.005, kernel=poly, score=0.4983996342021033, total=   0.6s\n",
      "[CV] C=50, gamma=0.005, kernel=poly ..................................\n",
      "[CV]  C=50, gamma=0.005, kernel=poly, score=0.49862637362637363, total=   0.5s\n",
      "[CV] C=50, gamma=0.005, kernel=rbf ...................................\n",
      "[CV]  C=50, gamma=0.005, kernel=rbf, score=0.7873799725651578, total=   0.4s\n",
      "[CV] C=50, gamma=0.005, kernel=rbf ...................................\n",
      "[CV]  C=50, gamma=0.005, kernel=rbf, score=0.7910379515317787, total=   0.4s\n",
      "[CV] C=50, gamma=0.005, kernel=rbf ...................................\n",
      "[CV]  C=50, gamma=0.005, kernel=rbf, score=0.7742673992673993, total=   0.4s\n",
      "[CV] C=50, gamma=0.005, kernel=sigmoid ...............................\n",
      "[CV]  C=50, gamma=0.005, kernel=sigmoid, score=0.7850937357110197, total=   0.2s\n",
      "[CV] C=50, gamma=0.005, kernel=sigmoid ...............................\n",
      "[CV]  C=50, gamma=0.005, kernel=sigmoid, score=0.7887517146776406, total=   0.3s\n",
      "[CV] C=50, gamma=0.005, kernel=sigmoid ...............................\n",
      "[CV]  C=50, gamma=0.005, kernel=sigmoid, score=0.7756410256410257, total=   0.3s\n"
     ]
    },
    {
     "name": "stderr",
     "output_type": "stream",
     "text": [
      "[Parallel(n_jobs=1)]: Done 240 out of 240 | elapsed:  3.4min finished\n"
     ]
    },
    {
     "data": {
      "text/plain": [
       "GridSearchCV(cv='warn', error_score='raise-deprecating',\n",
       "       estimator=SVC(C=1.0, cache_size=200, class_weight=None, coef0=0.0,\n",
       "  decision_function_shape='ovr', degree=3, gamma='auto_deprecated',\n",
       "  kernel='linear', max_iter=-1, probability=False, random_state=None,\n",
       "  shrinking=True, tol=0.001, verbose=False),\n",
       "       fit_params=None, iid='warn', n_jobs=None,\n",
       "       param_grid={'C': [0.1, 1, 5, 10, 50], 'kernel': ['linear', 'poly', 'rbf', 'sigmoid'], 'gamma': [0.0001, 0.0005, 0.001, 0.005]},\n",
       "       pre_dispatch='2*n_jobs', refit=True, return_train_score='warn',\n",
       "       scoring=None, verbose=3)"
      ]
     },
     "execution_count": 74,
     "metadata": {},
     "output_type": "execute_result"
    }
   ],
   "source": [
    "# Fit svm model using grid search estimator\n",
    "grid_svm.fit(X_train_scaled_mms, y_train)"
   ]
  },
  {
   "cell_type": "code",
   "execution_count": 75,
   "metadata": {},
   "outputs": [
    {
     "name": "stdout",
     "output_type": "stream",
     "text": [
      "{'C': 1, 'gamma': 0.0001, 'kernel': 'linear'}\n"
     ]
    }
   ],
   "source": [
    "# List the best parameters for this dataset\n",
    "print(grid_svm.best_params_)"
   ]
  },
  {
   "cell_type": "code",
   "execution_count": 76,
   "metadata": {},
   "outputs": [
    {
     "name": "stdout",
     "output_type": "stream",
     "text": [
      "Training Data Score: 0.786062824031717\n",
      "Testing Data Score: 0.7964318389752973\n"
     ]
    }
   ],
   "source": [
    "# Scores for train and test data after hyperparameter tuning of the model\n",
    "print(f\"Training Data Score: {grid_svm.score(X_train_scaled_mms, y_train)}\")\n",
    "print(f\"Testing Data Score: {grid_svm.score(X_test_scaled_mms, y_test)}\")"
   ]
  },
  {
   "cell_type": "code",
   "execution_count": 77,
   "metadata": {},
   "outputs": [
    {
     "name": "stdout",
     "output_type": "stream",
     "text": [
      "              precision    recall  f1-score   support\n",
      "\n",
      "           0       0.71      0.33      0.45       510\n",
      "           1       0.59      0.88      0.71       587\n",
      "           2       0.98      0.97      0.97      1089\n",
      "\n",
      "   micro avg       0.80      0.80      0.80      2186\n",
      "   macro avg       0.76      0.73      0.71      2186\n",
      "weighted avg       0.81      0.80      0.78      2186\n",
      "\n"
     ]
    }
   ],
   "source": [
    "# Calculate classification report\n",
    "print(classification_report(\n",
    "    y_test, grid_svm.predict(X_test_scaled_mms), target_names=[\"0\", \"1\", \"2\"]\n",
    "))"
   ]
  },
  {
   "cell_type": "code",
   "execution_count": 78,
   "metadata": {},
   "outputs": [
    {
     "data": {
      "text/html": [
       "<div>\n",
       "<style scoped>\n",
       "    .dataframe tbody tr th:only-of-type {\n",
       "        vertical-align: middle;\n",
       "    }\n",
       "\n",
       "    .dataframe tbody tr th {\n",
       "        vertical-align: top;\n",
       "    }\n",
       "\n",
       "    .dataframe thead th {\n",
       "        text-align: right;\n",
       "    }\n",
       "</style>\n",
       "<table border=\"1\" class=\"dataframe\">\n",
       "  <thead>\n",
       "    <tr style=\"text-align: right;\">\n",
       "      <th></th>\n",
       "      <th>target_test</th>\n",
       "      <th>target_predicted</th>\n",
       "    </tr>\n",
       "  </thead>\n",
       "  <tbody>\n",
       "    <tr>\n",
       "      <th>0</th>\n",
       "      <td>FALSE POSITIVE</td>\n",
       "      <td>FALSE POSITIVE</td>\n",
       "    </tr>\n",
       "    <tr>\n",
       "      <th>1</th>\n",
       "      <td>FALSE POSITIVE</td>\n",
       "      <td>FALSE POSITIVE</td>\n",
       "    </tr>\n",
       "    <tr>\n",
       "      <th>2</th>\n",
       "      <td>CONFIRMED</td>\n",
       "      <td>CONFIRMED</td>\n",
       "    </tr>\n",
       "    <tr>\n",
       "      <th>3</th>\n",
       "      <td>CANDIDATE</td>\n",
       "      <td>CONFIRMED</td>\n",
       "    </tr>\n",
       "    <tr>\n",
       "      <th>4</th>\n",
       "      <td>FALSE POSITIVE</td>\n",
       "      <td>FALSE POSITIVE</td>\n",
       "    </tr>\n",
       "    <tr>\n",
       "      <th>5</th>\n",
       "      <td>CONFIRMED</td>\n",
       "      <td>CONFIRMED</td>\n",
       "    </tr>\n",
       "    <tr>\n",
       "      <th>6</th>\n",
       "      <td>CANDIDATE</td>\n",
       "      <td>CONFIRMED</td>\n",
       "    </tr>\n",
       "    <tr>\n",
       "      <th>7</th>\n",
       "      <td>FALSE POSITIVE</td>\n",
       "      <td>FALSE POSITIVE</td>\n",
       "    </tr>\n",
       "    <tr>\n",
       "      <th>8</th>\n",
       "      <td>FALSE POSITIVE</td>\n",
       "      <td>FALSE POSITIVE</td>\n",
       "    </tr>\n",
       "    <tr>\n",
       "      <th>9</th>\n",
       "      <td>FALSE POSITIVE</td>\n",
       "      <td>CANDIDATE</td>\n",
       "    </tr>\n",
       "    <tr>\n",
       "      <th>10</th>\n",
       "      <td>CONFIRMED</td>\n",
       "      <td>CONFIRMED</td>\n",
       "    </tr>\n",
       "    <tr>\n",
       "      <th>11</th>\n",
       "      <td>CANDIDATE</td>\n",
       "      <td>CONFIRMED</td>\n",
       "    </tr>\n",
       "    <tr>\n",
       "      <th>12</th>\n",
       "      <td>FALSE POSITIVE</td>\n",
       "      <td>FALSE POSITIVE</td>\n",
       "    </tr>\n",
       "    <tr>\n",
       "      <th>13</th>\n",
       "      <td>CONFIRMED</td>\n",
       "      <td>CONFIRMED</td>\n",
       "    </tr>\n",
       "    <tr>\n",
       "      <th>14</th>\n",
       "      <td>CANDIDATE</td>\n",
       "      <td>CONFIRMED</td>\n",
       "    </tr>\n",
       "    <tr>\n",
       "      <th>15</th>\n",
       "      <td>CANDIDATE</td>\n",
       "      <td>CONFIRMED</td>\n",
       "    </tr>\n",
       "  </tbody>\n",
       "</table>\n",
       "</div>"
      ],
      "text/plain": [
       "       target_test target_predicted\n",
       "0   FALSE POSITIVE   FALSE POSITIVE\n",
       "1   FALSE POSITIVE   FALSE POSITIVE\n",
       "2        CONFIRMED        CONFIRMED\n",
       "3        CANDIDATE        CONFIRMED\n",
       "4   FALSE POSITIVE   FALSE POSITIVE\n",
       "5        CONFIRMED        CONFIRMED\n",
       "6        CANDIDATE        CONFIRMED\n",
       "7   FALSE POSITIVE   FALSE POSITIVE\n",
       "8   FALSE POSITIVE   FALSE POSITIVE\n",
       "9   FALSE POSITIVE        CANDIDATE\n",
       "10       CONFIRMED        CONFIRMED\n",
       "11       CANDIDATE        CONFIRMED\n",
       "12  FALSE POSITIVE   FALSE POSITIVE\n",
       "13       CONFIRMED        CONFIRMED\n",
       "14       CANDIDATE        CONFIRMED\n",
       "15       CANDIDATE        CONFIRMED"
      ]
     },
     "execution_count": 78,
     "metadata": {},
     "output_type": "execute_result"
    }
   ],
   "source": [
    "# DataFrame for test and predicted data\n",
    "target_pred_test_svm = pd.DataFrame({\n",
    "    \"target_test\": target_encoder.inverse_transform(y_test),\n",
    "    \"target_predicted\": target_encoder.inverse_transform(grid_svm.predict(X_test_scaled_mms))\n",
    "})\n",
    "\n",
    "# Preview \"target_pred_test_svm\"\n",
    "target_pred_test_svm.head(16)"
   ]
  },
  {
   "cell_type": "code",
   "execution_count": 110,
   "metadata": {},
   "outputs": [
    {
     "data": {
      "text/plain": [
       "['../models/kepler_svm_model.h5']"
      ]
     },
     "execution_count": 110,
     "metadata": {},
     "output_type": "execute_result"
    }
   ],
   "source": [
    "# Save model as .h5 file\n",
    "joblib.dump(grid_svm.best_estimator_, '../models/kepler_svm_model.h5')"
   ]
  },
  {
   "cell_type": "markdown",
   "metadata": {},
   "source": [
    "## <font color=\"navy\">KNN Model</font>"
   ]
  },
  {
   "cell_type": "code",
   "execution_count": 112,
   "metadata": {},
   "outputs": [],
   "source": [
    "from sklearn.neighbors import KNeighborsClassifier"
   ]
  },
  {
   "cell_type": "code",
   "execution_count": 116,
   "metadata": {},
   "outputs": [
    {
     "name": "stdout",
     "output_type": "stream",
     "text": [
      "k: 1, Train/Test Score: 1.000/0.750\n",
      "k: 3, Train/Test Score: 0.871/0.769\n",
      "k: 5, Train/Test Score: 0.850/0.787\n",
      "k: 7, Train/Test Score: 0.834/0.776\n",
      "k: 9, Train/Test Score: 0.826/0.775\n",
      "k: 11, Train/Test Score: 0.812/0.779\n",
      "k: 13, Train/Test Score: 0.811/0.783\n",
      "k: 15, Train/Test Score: 0.812/0.778\n",
      "k: 17, Train/Test Score: 0.807/0.775\n",
      "k: 19, Train/Test Score: 0.801/0.777\n",
      "k: 21, Train/Test Score: 0.800/0.780\n",
      "k: 23, Train/Test Score: 0.798/0.779\n",
      "k: 25, Train/Test Score: 0.799/0.784\n",
      "k: 27, Train/Test Score: 0.798/0.785\n",
      "k: 29, Train/Test Score: 0.797/0.783\n"
     ]
    },
    {
     "data": {
      "image/png": "[encoded data removed]",
      "text/plain": [
       "<Figure size 432x288 with 1 Axes>"
      ]
     },
     "metadata": {
      "needs_background": "light"
     },
     "output_type": "display_data"
    }
   ],
   "source": [
    "# Loop through different k values to see which has the highest accuracy\n",
    "# Note: We only use odd numbers because we don't want any ties\n",
    "train_scores = []\n",
    "test_scores = []\n",
    "for k in range(1, 30, 2):\n",
    "    # Create KNN classifier\n",
    "    knn = KNeighborsClassifier(n_neighbors=k)\n",
    "    # Fit model with train data\n",
    "    knn.fit(X_train_scaled_mms, y_train)\n",
    "    # Scores for train and test data for each k\n",
    "    train_score = knn.score(X_train_scaled_mms, y_train)\n",
    "    test_score = knn.score(X_test_scaled_mms, y_test)\n",
    "    train_scores.append(train_score)\n",
    "    test_scores.append(test_score)\n",
    "    print(f\"k: {k}, Train/Test Score: {train_score:.3f}/{test_score:.3f}\")\n",
    "\n",
    " \n",
    "    \n",
    "    \n",
    "plt.plot(range(1, 30, 2), train_scores, marker='o')\n",
    "plt.plot(range(1, 30, 2), test_scores, marker=\"x\")\n",
    "plt.xlabel(\"k neighbors\")\n",
    "plt.ylabel(\"Testing accuracy Score\")\n",
    "plt.show()"
   ]
  },
  {
   "cell_type": "code",
   "execution_count": 117,
   "metadata": {},
   "outputs": [
    {
     "data": {
      "text/plain": [
       "KNeighborsClassifier(algorithm='auto', leaf_size=30, metric='minkowski',\n",
       "           metric_params=None, n_jobs=None, n_neighbors=25, p=2,\n",
       "           weights='uniform')"
      ]
     },
     "execution_count": 117,
     "metadata": {},
     "output_type": "execute_result"
    }
   ],
   "source": [
    "# Note that k: 25 seems to be the best choice for this dataset\n",
    "knn = KNeighborsClassifier(n_neighbors=25)\n",
    "knn.fit(X_train_scaled_mms, y_train)"
   ]
  },
  {
   "cell_type": "code",
   "execution_count": 118,
   "metadata": {},
   "outputs": [
    {
     "name": "stdout",
     "output_type": "stream",
     "text": [
      "Training Data Score: 0.7985666361695639\n",
      "Testing Data Score: 0.7840805123513266\n"
     ]
    }
   ],
   "source": [
    "# Scores for train and test data\n",
    "print(f\"Training Data Score: {knn.score(X_train_scaled_mms, y_train)}\")\n",
    "print(f\"Testing Data Score: {knn.score(X_test_scaled_mms, y_test)}\")"
   ]
  },
  {
   "cell_type": "code",
   "execution_count": 119,
   "metadata": {},
   "outputs": [],
   "source": [
    "# Set up tuning parameters\n",
    "param_grid_knn = {'weights': [\"uniform\", \"distance\"],\n",
    "                  'algorithm': [\"ball_tree\", \"kd_tree\", \"brute\"],\n",
    "                  'p': [1, 2]\n",
    "                 }\n",
    "              \n",
    "grid_knn = GridSearchCV(knn, param_grid_knn, verbose=3)"
   ]
  },
  {
   "cell_type": "code",
   "execution_count": 120,
   "metadata": {},
   "outputs": [
    {
     "name": "stderr",
     "output_type": "stream",
     "text": [
      "C:\\Users\\kouda\\Anaconda3\\lib\\site-packages\\sklearn\\model_selection\\_split.py:2053: FutureWarning: You should specify a value for 'cv' instead of relying on the default value. The default value will change from 3 to 5 in version 0.22.\n",
      "  warnings.warn(CV_WARNING, FutureWarning)\n",
      "[Parallel(n_jobs=1)]: Using backend SequentialBackend with 1 concurrent workers.\n"
     ]
    },
    {
     "name": "stdout",
     "output_type": "stream",
     "text": [
      "Fitting 3 folds for each of 12 candidates, totalling 36 fits\n",
      "[CV] algorithm=ball_tree, p=1, weights=uniform .......................\n",
      "[CV]  algorithm=ball_tree, p=1, weights=uniform, score=0.7850937357110197, total=   0.1s\n",
      "[CV] algorithm=ball_tree, p=1, weights=uniform .......................\n"
     ]
    },
    {
     "name": "stderr",
     "output_type": "stream",
     "text": [
      "[Parallel(n_jobs=1)]: Done   1 out of   1 | elapsed:    0.4s remaining:    0.0s\n"
     ]
    },
    {
     "name": "stdout",
     "output_type": "stream",
     "text": [
      "[CV]  algorithm=ball_tree, p=1, weights=uniform, score=0.7745770461819844, total=   0.1s\n",
      "[CV] algorithm=ball_tree, p=1, weights=uniform .......................\n"
     ]
    },
    {
     "name": "stderr",
     "output_type": "stream",
     "text": [
      "[Parallel(n_jobs=1)]: Done   2 out of   2 | elapsed:    0.8s remaining:    0.0s\n"
     ]
    },
    {
     "name": "stdout",
     "output_type": "stream",
     "text": [
      "[CV]  algorithm=ball_tree, p=1, weights=uniform, score=0.7568681318681318, total=   0.1s\n",
      "[CV] algorithm=ball_tree, p=1, weights=distance ......................\n",
      "[CV]  algorithm=ball_tree, p=1, weights=distance, score=0.7832647462277091, total=   0.1s\n",
      "[CV] algorithm=ball_tree, p=1, weights=distance ......................\n",
      "[CV]  algorithm=ball_tree, p=1, weights=distance, score=0.7704618198445359, total=   0.1s\n",
      "[CV] algorithm=ball_tree, p=1, weights=distance ......................\n",
      "[CV]  algorithm=ball_tree, p=1, weights=distance, score=0.7554945054945055, total=   0.1s\n",
      "[CV] algorithm=ball_tree, p=2, weights=uniform .......................\n",
      "[CV]  algorithm=ball_tree, p=2, weights=uniform, score=0.7649748513946045, total=   0.1s\n",
      "[CV] algorithm=ball_tree, p=2, weights=uniform .......................\n",
      "[CV]  algorithm=ball_tree, p=2, weights=uniform, score=0.7754915409236397, total=   0.1s\n",
      "[CV] algorithm=ball_tree, p=2, weights=uniform .......................\n",
      "[CV]  algorithm=ball_tree, p=2, weights=uniform, score=0.7554945054945055, total=   0.1s\n",
      "[CV] algorithm=ball_tree, p=2, weights=distance ......................\n",
      "[CV]  algorithm=ball_tree, p=2, weights=distance, score=0.7700045724737082, total=   0.1s\n",
      "[CV] algorithm=ball_tree, p=2, weights=distance ......................\n",
      "[CV]  algorithm=ball_tree, p=2, weights=distance, score=0.7750342935528121, total=   0.1s\n",
      "[CV] algorithm=ball_tree, p=2, weights=distance ......................\n",
      "[CV]  algorithm=ball_tree, p=2, weights=distance, score=0.75, total=   0.1s\n",
      "[CV] algorithm=kd_tree, p=1, weights=uniform .........................\n",
      "[CV]  algorithm=kd_tree, p=1, weights=uniform, score=0.7850937357110197, total=   0.0s\n",
      "[CV] algorithm=kd_tree, p=1, weights=uniform .........................\n",
      "[CV]  algorithm=kd_tree, p=1, weights=uniform, score=0.7745770461819844, total=   0.0s\n",
      "[CV] algorithm=kd_tree, p=1, weights=uniform .........................\n",
      "[CV]  algorithm=kd_tree, p=1, weights=uniform, score=0.7568681318681318, total=   0.0s\n",
      "[CV] algorithm=kd_tree, p=1, weights=distance ........................\n",
      "[CV]  algorithm=kd_tree, p=1, weights=distance, score=0.7832647462277091, total=   0.0s\n",
      "[CV] algorithm=kd_tree, p=1, weights=distance ........................\n",
      "[CV]  algorithm=kd_tree, p=1, weights=distance, score=0.7704618198445359, total=   0.0s\n",
      "[CV] algorithm=kd_tree, p=1, weights=distance ........................\n",
      "[CV]  algorithm=kd_tree, p=1, weights=distance, score=0.7554945054945055, total=   0.0s\n",
      "[CV] algorithm=kd_tree, p=2, weights=uniform .........................\n",
      "[CV]  algorithm=kd_tree, p=2, weights=uniform, score=0.7649748513946045, total=   0.0s\n",
      "[CV] algorithm=kd_tree, p=2, weights=uniform .........................\n",
      "[CV]  algorithm=kd_tree, p=2, weights=uniform, score=0.7754915409236397, total=   0.0s\n",
      "[CV] algorithm=kd_tree, p=2, weights=uniform .........................\n",
      "[CV]  algorithm=kd_tree, p=2, weights=uniform, score=0.7554945054945055, total=   0.0s\n",
      "[CV] algorithm=kd_tree, p=2, weights=distance ........................\n",
      "[CV]  algorithm=kd_tree, p=2, weights=distance, score=0.7700045724737082, total=   0.0s\n",
      "[CV] algorithm=kd_tree, p=2, weights=distance ........................\n",
      "[CV]  algorithm=kd_tree, p=2, weights=distance, score=0.7750342935528121, total=   0.0s\n",
      "[CV] algorithm=kd_tree, p=2, weights=distance ........................\n",
      "[CV]  algorithm=kd_tree, p=2, weights=distance, score=0.75, total=   0.0s\n",
      "[CV] algorithm=brute, p=1, weights=uniform ...........................\n",
      "[CV]  algorithm=brute, p=1, weights=uniform, score=0.7850937357110197, total=   0.2s\n",
      "[CV] algorithm=brute, p=1, weights=uniform ...........................\n",
      "[CV]  algorithm=brute, p=1, weights=uniform, score=0.7745770461819844, total=   0.2s\n",
      "[CV] algorithm=brute, p=1, weights=uniform ...........................\n",
      "[CV]  algorithm=brute, p=1, weights=uniform, score=0.7568681318681318, total=   0.2s\n",
      "[CV] algorithm=brute, p=1, weights=distance ..........................\n",
      "[CV]  algorithm=brute, p=1, weights=distance, score=0.7832647462277091, total=   0.2s\n",
      "[CV] algorithm=brute, p=1, weights=distance ..........................\n",
      "[CV]  algorithm=brute, p=1, weights=distance, score=0.7704618198445359, total=   0.2s\n",
      "[CV] algorithm=brute, p=1, weights=distance ..........................\n",
      "[CV]  algorithm=brute, p=1, weights=distance, score=0.7554945054945055, total=   0.2s\n",
      "[CV] algorithm=brute, p=2, weights=uniform ...........................\n",
      "[CV]  algorithm=brute, p=2, weights=uniform, score=0.7649748513946045, total=   0.1s\n",
      "[CV] algorithm=brute, p=2, weights=uniform ...........................\n",
      "[CV]  algorithm=brute, p=2, weights=uniform, score=0.7754915409236397, total=   0.1s\n",
      "[CV] algorithm=brute, p=2, weights=uniform ...........................\n",
      "[CV]  algorithm=brute, p=2, weights=uniform, score=0.7554945054945055, total=   0.2s\n",
      "[CV] algorithm=brute, p=2, weights=distance ..........................\n",
      "[CV]  algorithm=brute, p=2, weights=distance, score=0.7700045724737082, total=   0.2s\n",
      "[CV] algorithm=brute, p=2, weights=distance ..........................\n",
      "[CV]  algorithm=brute, p=2, weights=distance, score=0.7750342935528121, total=   0.1s\n",
      "[CV] algorithm=brute, p=2, weights=distance ..........................\n",
      "[CV]  algorithm=brute, p=2, weights=distance, score=0.75, total=   0.1s\n"
     ]
    },
    {
     "name": "stderr",
     "output_type": "stream",
     "text": [
      "[Parallel(n_jobs=1)]: Done  36 out of  36 | elapsed:   19.1s finished\n"
     ]
    },
    {
     "data": {
      "text/plain": [
       "GridSearchCV(cv='warn', error_score='raise-deprecating',\n",
       "       estimator=KNeighborsClassifier(algorithm='auto', leaf_size=30, metric='minkowski',\n",
       "           metric_params=None, n_jobs=None, n_neighbors=25, p=2,\n",
       "           weights='uniform'),\n",
       "       fit_params=None, iid='warn', n_jobs=None,\n",
       "       param_grid={'weights': ['uniform', 'distance'], 'algorithm': ['ball_tree', 'kd_tree', 'brute'], 'p': [1, 2]},\n",
       "       pre_dispatch='2*n_jobs', refit=True, return_train_score='warn',\n",
       "       scoring=None, verbose=3)"
      ]
     },
     "execution_count": 120,
     "metadata": {},
     "output_type": "execute_result"
    }
   ],
   "source": [
    "# Fit knn model using grid search estimator\n",
    "grid_knn.fit(X_train_scaled_mms, y_train)"
   ]
  },
  {
   "cell_type": "code",
   "execution_count": 121,
   "metadata": {},
   "outputs": [
    {
     "name": "stdout",
     "output_type": "stream",
     "text": [
      "{'algorithm': 'ball_tree', 'p': 1, 'weights': 'uniform'}\n"
     ]
    }
   ],
   "source": [
    "# List the best parameters for this dataset\n",
    "print(grid_knn.best_params_)"
   ]
  },
  {
   "cell_type": "code",
   "execution_count": 122,
   "metadata": {},
   "outputs": [
    {
     "name": "stdout",
     "output_type": "stream",
     "text": [
      "Training Data Score: 0.8007014333638305\n",
      "Testing Data Score: 0.7891125343092407\n"
     ]
    }
   ],
   "source": [
    "# Scores for train and test data after hyperparameter tuning of the model\n",
    "print(f\"Training Data Score: {grid_knn.score(X_train_scaled_mms, y_train)}\")\n",
    "print(f\"Testing Data Score: {grid_knn.score(X_test_scaled_mms, y_test)}\")"
   ]
  },
  {
   "cell_type": "code",
   "execution_count": 123,
   "metadata": {},
   "outputs": [
    {
     "name": "stdout",
     "output_type": "stream",
     "text": [
      "              precision    recall  f1-score   support\n",
      "\n",
      "           0       0.61      0.43      0.51       510\n",
      "           1       0.60      0.76      0.67       587\n",
      "           2       0.98      0.97      0.97      1089\n",
      "\n",
      "   micro avg       0.79      0.79      0.79      2186\n",
      "   macro avg       0.73      0.72      0.72      2186\n",
      "weighted avg       0.79      0.79      0.78      2186\n",
      "\n"
     ]
    }
   ],
   "source": [
    "# Calculate classification report\n",
    "print(classification_report(\n",
    "    y_test, grid_knn.predict(X_test_scaled_mms), target_names=[\"0\", \"1\", \"2\"]\n",
    "))"
   ]
  },
  {
   "cell_type": "code",
   "execution_count": 124,
   "metadata": {},
   "outputs": [
    {
     "data": {
      "text/html": [
       "<div>\n",
       "<style scoped>\n",
       "    .dataframe tbody tr th:only-of-type {\n",
       "        vertical-align: middle;\n",
       "    }\n",
       "\n",
       "    .dataframe tbody tr th {\n",
       "        vertical-align: top;\n",
       "    }\n",
       "\n",
       "    .dataframe thead th {\n",
       "        text-align: right;\n",
       "    }\n",
       "</style>\n",
       "<table border=\"1\" class=\"dataframe\">\n",
       "  <thead>\n",
       "    <tr style=\"text-align: right;\">\n",
       "      <th></th>\n",
       "      <th>target_test</th>\n",
       "      <th>target_predicted</th>\n",
       "    </tr>\n",
       "  </thead>\n",
       "  <tbody>\n",
       "    <tr>\n",
       "      <th>0</th>\n",
       "      <td>FALSE POSITIVE</td>\n",
       "      <td>FALSE POSITIVE</td>\n",
       "    </tr>\n",
       "    <tr>\n",
       "      <th>1</th>\n",
       "      <td>FALSE POSITIVE</td>\n",
       "      <td>FALSE POSITIVE</td>\n",
       "    </tr>\n",
       "    <tr>\n",
       "      <th>2</th>\n",
       "      <td>CONFIRMED</td>\n",
       "      <td>CONFIRMED</td>\n",
       "    </tr>\n",
       "    <tr>\n",
       "      <th>3</th>\n",
       "      <td>CANDIDATE</td>\n",
       "      <td>CONFIRMED</td>\n",
       "    </tr>\n",
       "    <tr>\n",
       "      <th>4</th>\n",
       "      <td>FALSE POSITIVE</td>\n",
       "      <td>FALSE POSITIVE</td>\n",
       "    </tr>\n",
       "    <tr>\n",
       "      <th>5</th>\n",
       "      <td>CONFIRMED</td>\n",
       "      <td>CONFIRMED</td>\n",
       "    </tr>\n",
       "    <tr>\n",
       "      <th>6</th>\n",
       "      <td>CANDIDATE</td>\n",
       "      <td>CONFIRMED</td>\n",
       "    </tr>\n",
       "    <tr>\n",
       "      <th>7</th>\n",
       "      <td>FALSE POSITIVE</td>\n",
       "      <td>FALSE POSITIVE</td>\n",
       "    </tr>\n",
       "    <tr>\n",
       "      <th>8</th>\n",
       "      <td>FALSE POSITIVE</td>\n",
       "      <td>FALSE POSITIVE</td>\n",
       "    </tr>\n",
       "    <tr>\n",
       "      <th>9</th>\n",
       "      <td>FALSE POSITIVE</td>\n",
       "      <td>CANDIDATE</td>\n",
       "    </tr>\n",
       "    <tr>\n",
       "      <th>10</th>\n",
       "      <td>CONFIRMED</td>\n",
       "      <td>CONFIRMED</td>\n",
       "    </tr>\n",
       "    <tr>\n",
       "      <th>11</th>\n",
       "      <td>CANDIDATE</td>\n",
       "      <td>CONFIRMED</td>\n",
       "    </tr>\n",
       "    <tr>\n",
       "      <th>12</th>\n",
       "      <td>FALSE POSITIVE</td>\n",
       "      <td>FALSE POSITIVE</td>\n",
       "    </tr>\n",
       "    <tr>\n",
       "      <th>13</th>\n",
       "      <td>CONFIRMED</td>\n",
       "      <td>CONFIRMED</td>\n",
       "    </tr>\n",
       "    <tr>\n",
       "      <th>14</th>\n",
       "      <td>CANDIDATE</td>\n",
       "      <td>CANDIDATE</td>\n",
       "    </tr>\n",
       "    <tr>\n",
       "      <th>15</th>\n",
       "      <td>CANDIDATE</td>\n",
       "      <td>CANDIDATE</td>\n",
       "    </tr>\n",
       "  </tbody>\n",
       "</table>\n",
       "</div>"
      ],
      "text/plain": [
       "       target_test target_predicted\n",
       "0   FALSE POSITIVE   FALSE POSITIVE\n",
       "1   FALSE POSITIVE   FALSE POSITIVE\n",
       "2        CONFIRMED        CONFIRMED\n",
       "3        CANDIDATE        CONFIRMED\n",
       "4   FALSE POSITIVE   FALSE POSITIVE\n",
       "5        CONFIRMED        CONFIRMED\n",
       "6        CANDIDATE        CONFIRMED\n",
       "7   FALSE POSITIVE   FALSE POSITIVE\n",
       "8   FALSE POSITIVE   FALSE POSITIVE\n",
       "9   FALSE POSITIVE        CANDIDATE\n",
       "10       CONFIRMED        CONFIRMED\n",
       "11       CANDIDATE        CONFIRMED\n",
       "12  FALSE POSITIVE   FALSE POSITIVE\n",
       "13       CONFIRMED        CONFIRMED\n",
       "14       CANDIDATE        CANDIDATE\n",
       "15       CANDIDATE        CANDIDATE"
      ]
     },
     "execution_count": 124,
     "metadata": {},
     "output_type": "execute_result"
    }
   ],
   "source": [
    "# DataFrame for test and predicted data\n",
    "target_pred_test_knn = pd.DataFrame({\n",
    "    \"target_test\": target_encoder.inverse_transform(y_test),\n",
    "    \"target_predicted\": target_encoder.inverse_transform(grid_knn.predict(X_test_scaled_mms))\n",
    "})\n",
    "\n",
    "# Preview \"target_pred_test_knn\"\n",
    "target_pred_test_knn.head(16)"
   ]
  },
  {
   "cell_type": "code",
   "execution_count": 125,
   "metadata": {},
   "outputs": [
    {
     "data": {
      "text/plain": [
       "['../models/kepler_knn_model.h5']"
      ]
     },
     "execution_count": 125,
     "metadata": {},
     "output_type": "execute_result"
    }
   ],
   "source": [
    "# Save model as .h5 file\n",
    "joblib.dump(grid_knn.best_estimator_, '../models/kepler_knn_model.h5')"
   ]
  },
  {
   "cell_type": "code",
   "execution_count": null,
   "metadata": {},
   "outputs": [],
   "source": []
  }
 ],
 "metadata": {
  "kernel_info": {
   "name": "dev"
  },
  "kernelspec": {
   "display_name": "Python 3",
   "language": "python",
   "name": "python3"
  },
  "language_info": {
   "codemirror_mode": {
    "name": "ipython",
    "version": 3
   },
   "file_extension": ".py",
   "mimetype": "text/x-python",
   "name": "python",
   "nbconvert_exporter": "python",
   "pygments_lexer": "ipython3",
   "version": "3.7.1"
  },
  "nteract": {
   "version": "0.12.3"
  }
 },
 "nbformat": 4,
 "nbformat_minor": 2
}
